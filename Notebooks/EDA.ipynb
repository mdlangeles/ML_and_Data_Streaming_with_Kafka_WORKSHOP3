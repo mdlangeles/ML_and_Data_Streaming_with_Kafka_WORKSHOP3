{
 "cells": [
  {
   "cell_type": "markdown",
   "metadata": {},
   "source": [
    "As a first step, we will start by importing the necessary modules to work."
   ]
  },
  {
   "cell_type": "code",
   "execution_count": 1,
   "metadata": {},
   "outputs": [],
   "source": [
    "import matplotlib.pyplot as plt\n",
    "import seaborn as sns\n",
    "import pandas as pd\n",
    "from sklearn.model_selection import train_test_split\n",
    "from sklearn.ensemble import RandomForestRegressor\n",
    "from sklearn.linear_model import LinearRegression\n",
    "from sklearn.ensemble import GradientBoostingRegressor\n",
    "from sklearn.metrics import mean_squared_error, r2_score\n",
    "from tabulate import tabulate\n",
    "import joblib\n",
    "import sys\n",
    "sys.path.append('../utils')\n",
    "from utils import continent, del_cols, dummies\n"
   ]
  },
  {
   "cell_type": "markdown",
   "metadata": {},
   "source": [
    "Subsequently, I will organize the 5 csv's as dataframes to work with, in order to make an exploratory analysis of the data."
   ]
  },
  {
   "cell_type": "markdown",
   "metadata": {},
   "source": [
    "### 2015 CSV"
   ]
  },
  {
   "cell_type": "code",
   "execution_count": 2,
   "metadata": {
    "metadata": {}
   },
   "outputs": [
    {
     "data": {
      "text/html": [
       "<div>\n",
       "<style scoped>\n",
       "    .dataframe tbody tr th:only-of-type {\n",
       "        vertical-align: middle;\n",
       "    }\n",
       "\n",
       "    .dataframe tbody tr th {\n",
       "        vertical-align: top;\n",
       "    }\n",
       "\n",
       "    .dataframe thead th {\n",
       "        text-align: right;\n",
       "    }\n",
       "</style>\n",
       "<table border=\"1\" class=\"dataframe\">\n",
       "  <thead>\n",
       "    <tr style=\"text-align: right;\">\n",
       "      <th></th>\n",
       "      <th>Country</th>\n",
       "      <th>Region</th>\n",
       "      <th>Happiness Rank</th>\n",
       "      <th>Happiness Score</th>\n",
       "      <th>Standard Error</th>\n",
       "      <th>Economy (GDP per Capita)</th>\n",
       "      <th>Family</th>\n",
       "      <th>Health (Life Expectancy)</th>\n",
       "      <th>Freedom</th>\n",
       "      <th>Trust (Government Corruption)</th>\n",
       "      <th>Generosity</th>\n",
       "      <th>Dystopia Residual</th>\n",
       "    </tr>\n",
       "  </thead>\n",
       "  <tbody>\n",
       "    <tr>\n",
       "      <th>0</th>\n",
       "      <td>Switzerland</td>\n",
       "      <td>Western Europe</td>\n",
       "      <td>1</td>\n",
       "      <td>7.587</td>\n",
       "      <td>0.03411</td>\n",
       "      <td>1.39651</td>\n",
       "      <td>1.34951</td>\n",
       "      <td>0.94143</td>\n",
       "      <td>0.66557</td>\n",
       "      <td>0.41978</td>\n",
       "      <td>0.29678</td>\n",
       "      <td>2.51738</td>\n",
       "    </tr>\n",
       "    <tr>\n",
       "      <th>1</th>\n",
       "      <td>Iceland</td>\n",
       "      <td>Western Europe</td>\n",
       "      <td>2</td>\n",
       "      <td>7.561</td>\n",
       "      <td>0.04884</td>\n",
       "      <td>1.30232</td>\n",
       "      <td>1.40223</td>\n",
       "      <td>0.94784</td>\n",
       "      <td>0.62877</td>\n",
       "      <td>0.14145</td>\n",
       "      <td>0.43630</td>\n",
       "      <td>2.70201</td>\n",
       "    </tr>\n",
       "    <tr>\n",
       "      <th>2</th>\n",
       "      <td>Denmark</td>\n",
       "      <td>Western Europe</td>\n",
       "      <td>3</td>\n",
       "      <td>7.527</td>\n",
       "      <td>0.03328</td>\n",
       "      <td>1.32548</td>\n",
       "      <td>1.36058</td>\n",
       "      <td>0.87464</td>\n",
       "      <td>0.64938</td>\n",
       "      <td>0.48357</td>\n",
       "      <td>0.34139</td>\n",
       "      <td>2.49204</td>\n",
       "    </tr>\n",
       "    <tr>\n",
       "      <th>3</th>\n",
       "      <td>Norway</td>\n",
       "      <td>Western Europe</td>\n",
       "      <td>4</td>\n",
       "      <td>7.522</td>\n",
       "      <td>0.03880</td>\n",
       "      <td>1.45900</td>\n",
       "      <td>1.33095</td>\n",
       "      <td>0.88521</td>\n",
       "      <td>0.66973</td>\n",
       "      <td>0.36503</td>\n",
       "      <td>0.34699</td>\n",
       "      <td>2.46531</td>\n",
       "    </tr>\n",
       "    <tr>\n",
       "      <th>4</th>\n",
       "      <td>Canada</td>\n",
       "      <td>North America</td>\n",
       "      <td>5</td>\n",
       "      <td>7.427</td>\n",
       "      <td>0.03553</td>\n",
       "      <td>1.32629</td>\n",
       "      <td>1.32261</td>\n",
       "      <td>0.90563</td>\n",
       "      <td>0.63297</td>\n",
       "      <td>0.32957</td>\n",
       "      <td>0.45811</td>\n",
       "      <td>2.45176</td>\n",
       "    </tr>\n",
       "  </tbody>\n",
       "</table>\n",
       "</div>"
      ],
      "text/plain": [
       "       Country          Region  Happiness Rank  Happiness Score  \\\n",
       "0  Switzerland  Western Europe               1            7.587   \n",
       "1      Iceland  Western Europe               2            7.561   \n",
       "2      Denmark  Western Europe               3            7.527   \n",
       "3       Norway  Western Europe               4            7.522   \n",
       "4       Canada   North America               5            7.427   \n",
       "\n",
       "   Standard Error  Economy (GDP per Capita)   Family  \\\n",
       "0         0.03411                   1.39651  1.34951   \n",
       "1         0.04884                   1.30232  1.40223   \n",
       "2         0.03328                   1.32548  1.36058   \n",
       "3         0.03880                   1.45900  1.33095   \n",
       "4         0.03553                   1.32629  1.32261   \n",
       "\n",
       "   Health (Life Expectancy)  Freedom  Trust (Government Corruption)  \\\n",
       "0                   0.94143  0.66557                        0.41978   \n",
       "1                   0.94784  0.62877                        0.14145   \n",
       "2                   0.87464  0.64938                        0.48357   \n",
       "3                   0.88521  0.66973                        0.36503   \n",
       "4                   0.90563  0.63297                        0.32957   \n",
       "\n",
       "   Generosity  Dystopia Residual  \n",
       "0     0.29678            2.51738  \n",
       "1     0.43630            2.70201  \n",
       "2     0.34139            2.49204  \n",
       "3     0.34699            2.46531  \n",
       "4     0.45811            2.45176  "
      ]
     },
     "execution_count": 2,
     "metadata": {},
     "output_type": "execute_result"
    }
   ],
   "source": [
    "df2015=pd.read_csv(\"../Data/2015.csv\")\n",
    "df2015.head(5)"
   ]
  },
  {
   "cell_type": "code",
   "execution_count": 3,
   "metadata": {
    "metadata": {}
   },
   "outputs": [
    {
     "data": {
      "text/plain": [
       "(158, 12)"
      ]
     },
     "execution_count": 3,
     "metadata": {},
     "output_type": "execute_result"
    }
   ],
   "source": [
    "df2015.shape"
   ]
  },
  {
   "cell_type": "markdown",
   "metadata": {},
   "source": [
    "We can see that our dataset has 158 rows and 12 columns.\n",
    "\n",
    "Now, let's see what kind of data we have:"
   ]
  },
  {
   "cell_type": "code",
   "execution_count": 4,
   "metadata": {
    "metadata": {}
   },
   "outputs": [
    {
     "data": {
      "image/png": "[encoded data removed]",
      "text/plain": [
       "<Figure size 500x500 with 1 Axes>"
      ]
     },
     "metadata": {},
     "output_type": "display_data"
    }
   ],
   "source": [
    "data_types_counts = df2015.dtypes.value_counts()\n",
    "\n",
    "\n",
    "colors = ['skyblue']\n",
    "\n",
    "plt.figure(figsize=(5, 5))\n",
    "bar_plot = data_types_counts.plot(kind='bar', color=colors)\n",
    "\n",
    "plt.xlabel('Data type')\n",
    "plt.ylabel('Quantity')\n",
    "plt.title('Counting of data types in the data set')\n",
    "\n",
    "\n",
    "for i, value in enumerate(data_types_counts):\n",
    "    plt.text(i, value + 0, str(value), ha='center', va='bottom')\n",
    "\n",
    "plt.tight_layout()\n",
    "plt.show()"
   ]
  },
  {
   "cell_type": "markdown",
   "metadata": {},
   "source": [
    "Most of our data are of type “float”, and that has logic, because when we did “.head()” we realized that many columns had floating values."
   ]
  },
  {
   "cell_type": "code",
   "execution_count": 5,
   "metadata": {
    "metadata": {}
   },
   "outputs": [
    {
     "name": "stdout",
     "output_type": "stream",
     "text": [
      "<class 'pandas.core.frame.DataFrame'>\n",
      "RangeIndex: 158 entries, 0 to 157\n",
      "Data columns (total 12 columns):\n",
      " #   Column                         Non-Null Count  Dtype  \n",
      "---  ------                         --------------  -----  \n",
      " 0   Country                        158 non-null    object \n",
      " 1   Region                         158 non-null    object \n",
      " 2   Happiness Rank                 158 non-null    int64  \n",
      " 3   Happiness Score                158 non-null    float64\n",
      " 4   Standard Error                 158 non-null    float64\n",
      " 5   Economy (GDP per Capita)       158 non-null    float64\n",
      " 6   Family                         158 non-null    float64\n",
      " 7   Health (Life Expectancy)       158 non-null    float64\n",
      " 8   Freedom                        158 non-null    float64\n",
      " 9   Trust (Government Corruption)  158 non-null    float64\n",
      " 10  Generosity                     158 non-null    float64\n",
      " 11  Dystopia Residual              158 non-null    float64\n",
      "dtypes: float64(9), int64(1), object(2)\n",
      "memory usage: 14.9+ KB\n"
     ]
    }
   ],
   "source": [
    "df2015.info()"
   ]
  },
  {
   "cell_type": "markdown",
   "metadata": {},
   "source": [
    "Now, I performed an “.info()” to see which columns these data types belonged to, and also to see if they had null values or not. Where we can see that we do not have null values, and the only integer column is “happiness_rank”."
   ]
  },
  {
   "cell_type": "code",
   "execution_count": 6,
   "metadata": {
    "metadata": {}
   },
   "outputs": [
    {
     "data": {
      "text/plain": [
       "Country                          158\n",
       "Region                            10\n",
       "Happiness Rank                   157\n",
       "Happiness Score                  157\n",
       "Standard Error                   153\n",
       "Economy (GDP per Capita)         158\n",
       "Family                           158\n",
       "Health (Life Expectancy)         157\n",
       "Freedom                          158\n",
       "Trust (Government Corruption)    157\n",
       "Generosity                       158\n",
       "Dystopia Residual                158\n",
       "dtype: int64"
      ]
     },
     "execution_count": 6,
     "metadata": {},
     "output_type": "execute_result"
    }
   ],
   "source": [
    "df2015.nunique()"
   ]
  },
  {
   "cell_type": "markdown",
   "metadata": {},
   "source": [
    "With the above, I wanted to see how many unique values I had, where an important finding was that the regions are repeated throughout the dataset, as we only have 10 regions."
   ]
  },
  {
   "cell_type": "code",
   "execution_count": 7,
   "metadata": {
    "metadata": {}
   },
   "outputs": [
    {
     "data": {
      "text/plain": [
       "array(['Western Europe', 'North America', 'Australia and New Zealand',\n",
       "       'Middle East and Northern Africa', 'Latin America and Caribbean',\n",
       "       'Southeastern Asia', 'Central and Eastern Europe', 'Eastern Asia',\n",
       "       'Sub-Saharan Africa', 'Southern Asia'], dtype=object)"
      ]
     },
     "execution_count": 7,
     "metadata": {},
     "output_type": "execute_result"
    }
   ],
   "source": [
    "df2015['Region'].unique()"
   ]
  },
  {
   "cell_type": "code",
   "execution_count": 8,
   "metadata": {
    "metadata": {}
   },
   "outputs": [
    {
     "data": {
      "text/html": [
       "<div>\n",
       "<style scoped>\n",
       "    .dataframe tbody tr th:only-of-type {\n",
       "        vertical-align: middle;\n",
       "    }\n",
       "\n",
       "    .dataframe tbody tr th {\n",
       "        vertical-align: top;\n",
       "    }\n",
       "\n",
       "    .dataframe thead th {\n",
       "        text-align: right;\n",
       "    }\n",
       "</style>\n",
       "<table border=\"1\" class=\"dataframe\">\n",
       "  <thead>\n",
       "    <tr style=\"text-align: right;\">\n",
       "      <th></th>\n",
       "      <th>Country</th>\n",
       "      <th>Region</th>\n",
       "      <th>Happiness Rank</th>\n",
       "      <th>Happiness Score</th>\n",
       "      <th>Standard Error</th>\n",
       "      <th>Economy (GDP per Capita)</th>\n",
       "      <th>Family</th>\n",
       "      <th>Health (Life Expectancy)</th>\n",
       "      <th>Freedom</th>\n",
       "      <th>Trust (Government Corruption)</th>\n",
       "      <th>Generosity</th>\n",
       "      <th>Dystopia Residual</th>\n",
       "    </tr>\n",
       "  </thead>\n",
       "  <tbody>\n",
       "  </tbody>\n",
       "</table>\n",
       "</div>"
      ],
      "text/plain": [
       "Empty DataFrame\n",
       "Columns: [Country, Region, Happiness Rank, Happiness Score, Standard Error, Economy (GDP per Capita), Family, Health (Life Expectancy), Freedom, Trust (Government Corruption), Generosity, Dystopia Residual]\n",
       "Index: []"
      ]
     },
     "execution_count": 8,
     "metadata": {},
     "output_type": "execute_result"
    }
   ],
   "source": [
    "df2015.loc[df2015.duplicated()]"
   ]
  },
  {
   "cell_type": "markdown",
   "metadata": {},
   "source": [
    "We can see that we do not have duplicate values in this dataset, something really significant because, at the time of transformations, this will not be one of them."
   ]
  },
  {
   "cell_type": "code",
   "execution_count": 9,
   "metadata": {
    "metadata": {}
   },
   "outputs": [
    {
     "data": {
      "text/html": [
       "<div>\n",
       "<style scoped>\n",
       "    .dataframe tbody tr th:only-of-type {\n",
       "        vertical-align: middle;\n",
       "    }\n",
       "\n",
       "    .dataframe tbody tr th {\n",
       "        vertical-align: top;\n",
       "    }\n",
       "\n",
       "    .dataframe thead th {\n",
       "        text-align: right;\n",
       "    }\n",
       "</style>\n",
       "<table border=\"1\" class=\"dataframe\">\n",
       "  <thead>\n",
       "    <tr style=\"text-align: right;\">\n",
       "      <th></th>\n",
       "      <th>count</th>\n",
       "      <th>mean</th>\n",
       "      <th>std</th>\n",
       "      <th>min</th>\n",
       "      <th>25%</th>\n",
       "      <th>50%</th>\n",
       "      <th>75%</th>\n",
       "      <th>max</th>\n",
       "    </tr>\n",
       "  </thead>\n",
       "  <tbody>\n",
       "    <tr>\n",
       "      <th>Happiness Rank</th>\n",
       "      <td>158.0</td>\n",
       "      <td>79.493671</td>\n",
       "      <td>45.754363</td>\n",
       "      <td>1.00000</td>\n",
       "      <td>40.250000</td>\n",
       "      <td>79.500000</td>\n",
       "      <td>118.750000</td>\n",
       "      <td>158.00000</td>\n",
       "    </tr>\n",
       "    <tr>\n",
       "      <th>Happiness Score</th>\n",
       "      <td>158.0</td>\n",
       "      <td>5.375734</td>\n",
       "      <td>1.145010</td>\n",
       "      <td>2.83900</td>\n",
       "      <td>4.526000</td>\n",
       "      <td>5.232500</td>\n",
       "      <td>6.243750</td>\n",
       "      <td>7.58700</td>\n",
       "    </tr>\n",
       "    <tr>\n",
       "      <th>Standard Error</th>\n",
       "      <td>158.0</td>\n",
       "      <td>0.047885</td>\n",
       "      <td>0.017146</td>\n",
       "      <td>0.01848</td>\n",
       "      <td>0.037268</td>\n",
       "      <td>0.043940</td>\n",
       "      <td>0.052300</td>\n",
       "      <td>0.13693</td>\n",
       "    </tr>\n",
       "    <tr>\n",
       "      <th>Economy (GDP per Capita)</th>\n",
       "      <td>158.0</td>\n",
       "      <td>0.846137</td>\n",
       "      <td>0.403121</td>\n",
       "      <td>0.00000</td>\n",
       "      <td>0.545808</td>\n",
       "      <td>0.910245</td>\n",
       "      <td>1.158448</td>\n",
       "      <td>1.69042</td>\n",
       "    </tr>\n",
       "    <tr>\n",
       "      <th>Family</th>\n",
       "      <td>158.0</td>\n",
       "      <td>0.991046</td>\n",
       "      <td>0.272369</td>\n",
       "      <td>0.00000</td>\n",
       "      <td>0.856823</td>\n",
       "      <td>1.029510</td>\n",
       "      <td>1.214405</td>\n",
       "      <td>1.40223</td>\n",
       "    </tr>\n",
       "    <tr>\n",
       "      <th>Health (Life Expectancy)</th>\n",
       "      <td>158.0</td>\n",
       "      <td>0.630259</td>\n",
       "      <td>0.247078</td>\n",
       "      <td>0.00000</td>\n",
       "      <td>0.439185</td>\n",
       "      <td>0.696705</td>\n",
       "      <td>0.811013</td>\n",
       "      <td>1.02525</td>\n",
       "    </tr>\n",
       "    <tr>\n",
       "      <th>Freedom</th>\n",
       "      <td>158.0</td>\n",
       "      <td>0.428615</td>\n",
       "      <td>0.150693</td>\n",
       "      <td>0.00000</td>\n",
       "      <td>0.328330</td>\n",
       "      <td>0.435515</td>\n",
       "      <td>0.549092</td>\n",
       "      <td>0.66973</td>\n",
       "    </tr>\n",
       "    <tr>\n",
       "      <th>Trust (Government Corruption)</th>\n",
       "      <td>158.0</td>\n",
       "      <td>0.143422</td>\n",
       "      <td>0.120034</td>\n",
       "      <td>0.00000</td>\n",
       "      <td>0.061675</td>\n",
       "      <td>0.107220</td>\n",
       "      <td>0.180255</td>\n",
       "      <td>0.55191</td>\n",
       "    </tr>\n",
       "    <tr>\n",
       "      <th>Generosity</th>\n",
       "      <td>158.0</td>\n",
       "      <td>0.237296</td>\n",
       "      <td>0.126685</td>\n",
       "      <td>0.00000</td>\n",
       "      <td>0.150553</td>\n",
       "      <td>0.216130</td>\n",
       "      <td>0.309883</td>\n",
       "      <td>0.79588</td>\n",
       "    </tr>\n",
       "    <tr>\n",
       "      <th>Dystopia Residual</th>\n",
       "      <td>158.0</td>\n",
       "      <td>2.098977</td>\n",
       "      <td>0.553550</td>\n",
       "      <td>0.32858</td>\n",
       "      <td>1.759410</td>\n",
       "      <td>2.095415</td>\n",
       "      <td>2.462415</td>\n",
       "      <td>3.60214</td>\n",
       "    </tr>\n",
       "  </tbody>\n",
       "</table>\n",
       "</div>"
      ],
      "text/plain": [
       "                               count       mean        std      min  \\\n",
       "Happiness Rank                 158.0  79.493671  45.754363  1.00000   \n",
       "Happiness Score                158.0   5.375734   1.145010  2.83900   \n",
       "Standard Error                 158.0   0.047885   0.017146  0.01848   \n",
       "Economy (GDP per Capita)       158.0   0.846137   0.403121  0.00000   \n",
       "Family                         158.0   0.991046   0.272369  0.00000   \n",
       "Health (Life Expectancy)       158.0   0.630259   0.247078  0.00000   \n",
       "Freedom                        158.0   0.428615   0.150693  0.00000   \n",
       "Trust (Government Corruption)  158.0   0.143422   0.120034  0.00000   \n",
       "Generosity                     158.0   0.237296   0.126685  0.00000   \n",
       "Dystopia Residual              158.0   2.098977   0.553550  0.32858   \n",
       "\n",
       "                                     25%        50%         75%        max  \n",
       "Happiness Rank                 40.250000  79.500000  118.750000  158.00000  \n",
       "Happiness Score                 4.526000   5.232500    6.243750    7.58700  \n",
       "Standard Error                  0.037268   0.043940    0.052300    0.13693  \n",
       "Economy (GDP per Capita)        0.545808   0.910245    1.158448    1.69042  \n",
       "Family                          0.856823   1.029510    1.214405    1.40223  \n",
       "Health (Life Expectancy)        0.439185   0.696705    0.811013    1.02525  \n",
       "Freedom                         0.328330   0.435515    0.549092    0.66973  \n",
       "Trust (Government Corruption)   0.061675   0.107220    0.180255    0.55191  \n",
       "Generosity                      0.150553   0.216130    0.309883    0.79588  \n",
       "Dystopia Residual               1.759410   2.095415    2.462415    3.60214  "
      ]
     },
     "execution_count": 9,
     "metadata": {},
     "output_type": "execute_result"
    }
   ],
   "source": [
    "df2015.describe().T"
   ]
  },
  {
   "cell_type": "markdown",
   "metadata": {},
   "source": [
    "- Happiness Rank:\n",
    "        The mean happiness rank is approximately 79.49, suggesting that most countries have a moderate happiness rank compared to other countries.\n",
    "        The wide standard deviation of approximately 45.75 indicates a large variability in the range of happiness across countries. This may be due to differences in factors such as economic development, quality of life, political stability and other social aspects that influence the perception of happiness.\n",
    "\n",
    "- Happiness Score:\n",
    "        The mean happiness score is about 5.38, suggesting that average happiness is in the middle range.\n",
    "        However, the relatively high standard deviation of about 1.15 indicates that there is significant variability in happiness scores across countries. Cultural, social and economic differences between countries may influence the perceived happiness of their citizens.\n",
    "\n",
    "- Trust (Government Corruption):\n",
    "        The mean of trust in government is approximately 0.14, with a standard deviation of 0.12, suggesting moderate variability in trust in government across countries. Perceptions of government corruption may be influenced by factors such as government transparency, the effectiveness of anti-corruption institutions, and a country's political culture.\n",
    "\n",
    "- Economy (GDP per Capita):\n",
    "        The mean GDP per capita is approximately 0.85, with a standard deviation of approximately 0.40, indicating significant variability in GDP per capita across countries. The difference in economic development between countries may be a key reason behind this variability, with factors such as industrial production, employment, foreign investment and wealth distribution influencing GDP per capita.\n",
    "\n",
    "These interpretations suggest that a variety of socioeconomic and political factors may influence perceptions of happiness and trust in government in different countries, resulting in significant variability in the observed data."
   ]
  },
  {
   "cell_type": "markdown",
   "metadata": {},
   "source": [
    "### 2016 CSV"
   ]
  },
  {
   "cell_type": "code",
   "execution_count": 10,
   "metadata": {
    "metadata": {}
   },
   "outputs": [
    {
     "data": {
      "text/html": [
       "<div>\n",
       "<style scoped>\n",
       "    .dataframe tbody tr th:only-of-type {\n",
       "        vertical-align: middle;\n",
       "    }\n",
       "\n",
       "    .dataframe tbody tr th {\n",
       "        vertical-align: top;\n",
       "    }\n",
       "\n",
       "    .dataframe thead th {\n",
       "        text-align: right;\n",
       "    }\n",
       "</style>\n",
       "<table border=\"1\" class=\"dataframe\">\n",
       "  <thead>\n",
       "    <tr style=\"text-align: right;\">\n",
       "      <th></th>\n",
       "      <th>Country</th>\n",
       "      <th>Region</th>\n",
       "      <th>Happiness Rank</th>\n",
       "      <th>Happiness Score</th>\n",
       "      <th>Lower Confidence Interval</th>\n",
       "      <th>Upper Confidence Interval</th>\n",
       "      <th>Economy (GDP per Capita)</th>\n",
       "      <th>Family</th>\n",
       "      <th>Health (Life Expectancy)</th>\n",
       "      <th>Freedom</th>\n",
       "      <th>Trust (Government Corruption)</th>\n",
       "      <th>Generosity</th>\n",
       "      <th>Dystopia Residual</th>\n",
       "    </tr>\n",
       "  </thead>\n",
       "  <tbody>\n",
       "    <tr>\n",
       "      <th>0</th>\n",
       "      <td>Denmark</td>\n",
       "      <td>Western Europe</td>\n",
       "      <td>1</td>\n",
       "      <td>7.526</td>\n",
       "      <td>7.460</td>\n",
       "      <td>7.592</td>\n",
       "      <td>1.44178</td>\n",
       "      <td>1.16374</td>\n",
       "      <td>0.79504</td>\n",
       "      <td>0.57941</td>\n",
       "      <td>0.44453</td>\n",
       "      <td>0.36171</td>\n",
       "      <td>2.73939</td>\n",
       "    </tr>\n",
       "    <tr>\n",
       "      <th>1</th>\n",
       "      <td>Switzerland</td>\n",
       "      <td>Western Europe</td>\n",
       "      <td>2</td>\n",
       "      <td>7.509</td>\n",
       "      <td>7.428</td>\n",
       "      <td>7.590</td>\n",
       "      <td>1.52733</td>\n",
       "      <td>1.14524</td>\n",
       "      <td>0.86303</td>\n",
       "      <td>0.58557</td>\n",
       "      <td>0.41203</td>\n",
       "      <td>0.28083</td>\n",
       "      <td>2.69463</td>\n",
       "    </tr>\n",
       "    <tr>\n",
       "      <th>2</th>\n",
       "      <td>Iceland</td>\n",
       "      <td>Western Europe</td>\n",
       "      <td>3</td>\n",
       "      <td>7.501</td>\n",
       "      <td>7.333</td>\n",
       "      <td>7.669</td>\n",
       "      <td>1.42666</td>\n",
       "      <td>1.18326</td>\n",
       "      <td>0.86733</td>\n",
       "      <td>0.56624</td>\n",
       "      <td>0.14975</td>\n",
       "      <td>0.47678</td>\n",
       "      <td>2.83137</td>\n",
       "    </tr>\n",
       "    <tr>\n",
       "      <th>3</th>\n",
       "      <td>Norway</td>\n",
       "      <td>Western Europe</td>\n",
       "      <td>4</td>\n",
       "      <td>7.498</td>\n",
       "      <td>7.421</td>\n",
       "      <td>7.575</td>\n",
       "      <td>1.57744</td>\n",
       "      <td>1.12690</td>\n",
       "      <td>0.79579</td>\n",
       "      <td>0.59609</td>\n",
       "      <td>0.35776</td>\n",
       "      <td>0.37895</td>\n",
       "      <td>2.66465</td>\n",
       "    </tr>\n",
       "    <tr>\n",
       "      <th>4</th>\n",
       "      <td>Finland</td>\n",
       "      <td>Western Europe</td>\n",
       "      <td>5</td>\n",
       "      <td>7.413</td>\n",
       "      <td>7.351</td>\n",
       "      <td>7.475</td>\n",
       "      <td>1.40598</td>\n",
       "      <td>1.13464</td>\n",
       "      <td>0.81091</td>\n",
       "      <td>0.57104</td>\n",
       "      <td>0.41004</td>\n",
       "      <td>0.25492</td>\n",
       "      <td>2.82596</td>\n",
       "    </tr>\n",
       "  </tbody>\n",
       "</table>\n",
       "</div>"
      ],
      "text/plain": [
       "       Country          Region  Happiness Rank  Happiness Score  \\\n",
       "0      Denmark  Western Europe               1            7.526   \n",
       "1  Switzerland  Western Europe               2            7.509   \n",
       "2      Iceland  Western Europe               3            7.501   \n",
       "3       Norway  Western Europe               4            7.498   \n",
       "4      Finland  Western Europe               5            7.413   \n",
       "\n",
       "   Lower Confidence Interval  Upper Confidence Interval  \\\n",
       "0                      7.460                      7.592   \n",
       "1                      7.428                      7.590   \n",
       "2                      7.333                      7.669   \n",
       "3                      7.421                      7.575   \n",
       "4                      7.351                      7.475   \n",
       "\n",
       "   Economy (GDP per Capita)   Family  Health (Life Expectancy)  Freedom  \\\n",
       "0                   1.44178  1.16374                   0.79504  0.57941   \n",
       "1                   1.52733  1.14524                   0.86303  0.58557   \n",
       "2                   1.42666  1.18326                   0.86733  0.56624   \n",
       "3                   1.57744  1.12690                   0.79579  0.59609   \n",
       "4                   1.40598  1.13464                   0.81091  0.57104   \n",
       "\n",
       "   Trust (Government Corruption)  Generosity  Dystopia Residual  \n",
       "0                        0.44453     0.36171            2.73939  \n",
       "1                        0.41203     0.28083            2.69463  \n",
       "2                        0.14975     0.47678            2.83137  \n",
       "3                        0.35776     0.37895            2.66465  \n",
       "4                        0.41004     0.25492            2.82596  "
      ]
     },
     "execution_count": 10,
     "metadata": {},
     "output_type": "execute_result"
    }
   ],
   "source": [
    "df2016=pd.read_csv(\"../Data/2016.csv\")\n",
    "df2016.head(5)"
   ]
  },
  {
   "cell_type": "code",
   "execution_count": 11,
   "metadata": {
    "metadata": {}
   },
   "outputs": [
    {
     "data": {
      "text/plain": [
       "(157, 13)"
      ]
     },
     "execution_count": 11,
     "metadata": {},
     "output_type": "execute_result"
    }
   ],
   "source": [
    "df2016.shape"
   ]
  },
  {
   "cell_type": "markdown",
   "metadata": {},
   "source": [
    "We can see that our dataset has 158 rows and 12 columns."
   ]
  },
  {
   "cell_type": "code",
   "execution_count": 12,
   "metadata": {
    "metadata": {}
   },
   "outputs": [
    {
     "data": {
      "image/png": "[encoded data removed]",
      "text/plain": [
       "<Figure size 500x500 with 1 Axes>"
      ]
     },
     "metadata": {},
     "output_type": "display_data"
    }
   ],
   "source": [
    "data_types_counts = df2016.dtypes.value_counts()\n",
    "\n",
    "\n",
    "colors = ['skyblue']\n",
    "\n",
    "plt.figure(figsize=(5, 5))\n",
    "bar_plot = data_types_counts.plot(kind='bar', color=colors)\n",
    "\n",
    "plt.xlabel('Data type')\n",
    "plt.ylabel('Quantity')\n",
    "plt.title('Counting of data types in the data set')\n",
    "\n",
    "\n",
    "for i, value in enumerate(data_types_counts):\n",
    "    plt.text(i, value + 0, str(value), ha='center', va='bottom')\n",
    "\n",
    "plt.tight_layout()\n",
    "plt.show()"
   ]
  },
  {
   "cell_type": "code",
   "execution_count": 13,
   "metadata": {
    "metadata": {}
   },
   "outputs": [
    {
     "name": "stdout",
     "output_type": "stream",
     "text": [
      "<class 'pandas.core.frame.DataFrame'>\n",
      "RangeIndex: 157 entries, 0 to 156\n",
      "Data columns (total 13 columns):\n",
      " #   Column                         Non-Null Count  Dtype  \n",
      "---  ------                         --------------  -----  \n",
      " 0   Country                        157 non-null    object \n",
      " 1   Region                         157 non-null    object \n",
      " 2   Happiness Rank                 157 non-null    int64  \n",
      " 3   Happiness Score                157 non-null    float64\n",
      " 4   Lower Confidence Interval      157 non-null    float64\n",
      " 5   Upper Confidence Interval      157 non-null    float64\n",
      " 6   Economy (GDP per Capita)       157 non-null    float64\n",
      " 7   Family                         157 non-null    float64\n",
      " 8   Health (Life Expectancy)       157 non-null    float64\n",
      " 9   Freedom                        157 non-null    float64\n",
      " 10  Trust (Government Corruption)  157 non-null    float64\n",
      " 11  Generosity                     157 non-null    float64\n",
      " 12  Dystopia Residual              157 non-null    float64\n",
      "dtypes: float64(10), int64(1), object(2)\n",
      "memory usage: 16.1+ KB\n"
     ]
    }
   ],
   "source": [
    "df2016.info()"
   ]
  },
  {
   "cell_type": "markdown",
   "metadata": {},
   "source": [
    "We can see that we have no null values in our dataset."
   ]
  },
  {
   "cell_type": "code",
   "execution_count": 14,
   "metadata": {
    "metadata": {}
   },
   "outputs": [
    {
     "data": {
      "text/plain": [
       "Country                          157\n",
       "Region                            10\n",
       "Happiness Rank                   154\n",
       "Happiness Score                  154\n",
       "Lower Confidence Interval        154\n",
       "Upper Confidence Interval        154\n",
       "Economy (GDP per Capita)         157\n",
       "Family                           157\n",
       "Health (Life Expectancy)         156\n",
       "Freedom                          157\n",
       "Trust (Government Corruption)    156\n",
       "Generosity                       157\n",
       "Dystopia Residual                157\n",
       "dtype: int64"
      ]
     },
     "execution_count": 14,
     "metadata": {},
     "output_type": "execute_result"
    }
   ],
   "source": [
    "df2016.nunique()"
   ]
  },
  {
   "cell_type": "markdown",
   "metadata": {},
   "source": [
    "With the above, I wanted to see how many unique values I had, where an important finding was that the regions are repeated throughout the dataset, as we only have 10 regions."
   ]
  },
  {
   "cell_type": "code",
   "execution_count": 15,
   "metadata": {
    "metadata": {}
   },
   "outputs": [
    {
     "data": {
      "text/plain": [
       "array(['Western Europe', 'North America', 'Australia and New Zealand',\n",
       "       'Middle East and Northern Africa', 'Latin America and Caribbean',\n",
       "       'Southeastern Asia', 'Central and Eastern Europe', 'Eastern Asia',\n",
       "       'Sub-Saharan Africa', 'Southern Asia'], dtype=object)"
      ]
     },
     "execution_count": 15,
     "metadata": {},
     "output_type": "execute_result"
    }
   ],
   "source": [
    "df2016['Region'].unique()"
   ]
  },
  {
   "cell_type": "code",
   "execution_count": 16,
   "metadata": {
    "metadata": {}
   },
   "outputs": [
    {
     "data": {
      "text/html": [
       "<div>\n",
       "<style scoped>\n",
       "    .dataframe tbody tr th:only-of-type {\n",
       "        vertical-align: middle;\n",
       "    }\n",
       "\n",
       "    .dataframe tbody tr th {\n",
       "        vertical-align: top;\n",
       "    }\n",
       "\n",
       "    .dataframe thead th {\n",
       "        text-align: right;\n",
       "    }\n",
       "</style>\n",
       "<table border=\"1\" class=\"dataframe\">\n",
       "  <thead>\n",
       "    <tr style=\"text-align: right;\">\n",
       "      <th></th>\n",
       "      <th>Country</th>\n",
       "      <th>Region</th>\n",
       "      <th>Happiness Rank</th>\n",
       "      <th>Happiness Score</th>\n",
       "      <th>Lower Confidence Interval</th>\n",
       "      <th>Upper Confidence Interval</th>\n",
       "      <th>Economy (GDP per Capita)</th>\n",
       "      <th>Family</th>\n",
       "      <th>Health (Life Expectancy)</th>\n",
       "      <th>Freedom</th>\n",
       "      <th>Trust (Government Corruption)</th>\n",
       "      <th>Generosity</th>\n",
       "      <th>Dystopia Residual</th>\n",
       "    </tr>\n",
       "  </thead>\n",
       "  <tbody>\n",
       "  </tbody>\n",
       "</table>\n",
       "</div>"
      ],
      "text/plain": [
       "Empty DataFrame\n",
       "Columns: [Country, Region, Happiness Rank, Happiness Score, Lower Confidence Interval, Upper Confidence Interval, Economy (GDP per Capita), Family, Health (Life Expectancy), Freedom, Trust (Government Corruption), Generosity, Dystopia Residual]\n",
       "Index: []"
      ]
     },
     "execution_count": 16,
     "metadata": {},
     "output_type": "execute_result"
    }
   ],
   "source": [
    "df2016.loc[df2016.duplicated()]"
   ]
  },
  {
   "cell_type": "markdown",
   "metadata": {},
   "source": [
    "As we can see, there are no duplicate values."
   ]
  },
  {
   "cell_type": "code",
   "execution_count": 17,
   "metadata": {
    "metadata": {}
   },
   "outputs": [
    {
     "data": {
      "text/html": [
       "<div>\n",
       "<style scoped>\n",
       "    .dataframe tbody tr th:only-of-type {\n",
       "        vertical-align: middle;\n",
       "    }\n",
       "\n",
       "    .dataframe tbody tr th {\n",
       "        vertical-align: top;\n",
       "    }\n",
       "\n",
       "    .dataframe thead th {\n",
       "        text-align: right;\n",
       "    }\n",
       "</style>\n",
       "<table border=\"1\" class=\"dataframe\">\n",
       "  <thead>\n",
       "    <tr style=\"text-align: right;\">\n",
       "      <th></th>\n",
       "      <th>count</th>\n",
       "      <th>mean</th>\n",
       "      <th>std</th>\n",
       "      <th>min</th>\n",
       "      <th>25%</th>\n",
       "      <th>50%</th>\n",
       "      <th>75%</th>\n",
       "      <th>max</th>\n",
       "    </tr>\n",
       "  </thead>\n",
       "  <tbody>\n",
       "    <tr>\n",
       "      <th>Happiness Rank</th>\n",
       "      <td>157.0</td>\n",
       "      <td>78.980892</td>\n",
       "      <td>45.466030</td>\n",
       "      <td>1.00000</td>\n",
       "      <td>40.00000</td>\n",
       "      <td>79.00000</td>\n",
       "      <td>118.00000</td>\n",
       "      <td>157.00000</td>\n",
       "    </tr>\n",
       "    <tr>\n",
       "      <th>Happiness Score</th>\n",
       "      <td>157.0</td>\n",
       "      <td>5.382185</td>\n",
       "      <td>1.141674</td>\n",
       "      <td>2.90500</td>\n",
       "      <td>4.40400</td>\n",
       "      <td>5.31400</td>\n",
       "      <td>6.26900</td>\n",
       "      <td>7.52600</td>\n",
       "    </tr>\n",
       "    <tr>\n",
       "      <th>Lower Confidence Interval</th>\n",
       "      <td>157.0</td>\n",
       "      <td>5.282395</td>\n",
       "      <td>1.148043</td>\n",
       "      <td>2.73200</td>\n",
       "      <td>4.32700</td>\n",
       "      <td>5.23700</td>\n",
       "      <td>6.15400</td>\n",
       "      <td>7.46000</td>\n",
       "    </tr>\n",
       "    <tr>\n",
       "      <th>Upper Confidence Interval</th>\n",
       "      <td>157.0</td>\n",
       "      <td>5.481975</td>\n",
       "      <td>1.136493</td>\n",
       "      <td>3.07800</td>\n",
       "      <td>4.46500</td>\n",
       "      <td>5.41900</td>\n",
       "      <td>6.43400</td>\n",
       "      <td>7.66900</td>\n",
       "    </tr>\n",
       "    <tr>\n",
       "      <th>Economy (GDP per Capita)</th>\n",
       "      <td>157.0</td>\n",
       "      <td>0.953880</td>\n",
       "      <td>0.412595</td>\n",
       "      <td>0.00000</td>\n",
       "      <td>0.67024</td>\n",
       "      <td>1.02780</td>\n",
       "      <td>1.27964</td>\n",
       "      <td>1.82427</td>\n",
       "    </tr>\n",
       "    <tr>\n",
       "      <th>Family</th>\n",
       "      <td>157.0</td>\n",
       "      <td>0.793621</td>\n",
       "      <td>0.266706</td>\n",
       "      <td>0.00000</td>\n",
       "      <td>0.64184</td>\n",
       "      <td>0.84142</td>\n",
       "      <td>1.02152</td>\n",
       "      <td>1.18326</td>\n",
       "    </tr>\n",
       "    <tr>\n",
       "      <th>Health (Life Expectancy)</th>\n",
       "      <td>157.0</td>\n",
       "      <td>0.557619</td>\n",
       "      <td>0.229349</td>\n",
       "      <td>0.00000</td>\n",
       "      <td>0.38291</td>\n",
       "      <td>0.59659</td>\n",
       "      <td>0.72993</td>\n",
       "      <td>0.95277</td>\n",
       "    </tr>\n",
       "    <tr>\n",
       "      <th>Freedom</th>\n",
       "      <td>157.0</td>\n",
       "      <td>0.370994</td>\n",
       "      <td>0.145507</td>\n",
       "      <td>0.00000</td>\n",
       "      <td>0.25748</td>\n",
       "      <td>0.39747</td>\n",
       "      <td>0.48453</td>\n",
       "      <td>0.60848</td>\n",
       "    </tr>\n",
       "    <tr>\n",
       "      <th>Trust (Government Corruption)</th>\n",
       "      <td>157.0</td>\n",
       "      <td>0.137624</td>\n",
       "      <td>0.111038</td>\n",
       "      <td>0.00000</td>\n",
       "      <td>0.06126</td>\n",
       "      <td>0.10547</td>\n",
       "      <td>0.17554</td>\n",
       "      <td>0.50521</td>\n",
       "    </tr>\n",
       "    <tr>\n",
       "      <th>Generosity</th>\n",
       "      <td>157.0</td>\n",
       "      <td>0.242635</td>\n",
       "      <td>0.133756</td>\n",
       "      <td>0.00000</td>\n",
       "      <td>0.15457</td>\n",
       "      <td>0.22245</td>\n",
       "      <td>0.31185</td>\n",
       "      <td>0.81971</td>\n",
       "    </tr>\n",
       "    <tr>\n",
       "      <th>Dystopia Residual</th>\n",
       "      <td>157.0</td>\n",
       "      <td>2.325807</td>\n",
       "      <td>0.542220</td>\n",
       "      <td>0.81789</td>\n",
       "      <td>2.03171</td>\n",
       "      <td>2.29074</td>\n",
       "      <td>2.66465</td>\n",
       "      <td>3.83772</td>\n",
       "    </tr>\n",
       "  </tbody>\n",
       "</table>\n",
       "</div>"
      ],
      "text/plain": [
       "                               count       mean        std      min       25%  \\\n",
       "Happiness Rank                 157.0  78.980892  45.466030  1.00000  40.00000   \n",
       "Happiness Score                157.0   5.382185   1.141674  2.90500   4.40400   \n",
       "Lower Confidence Interval      157.0   5.282395   1.148043  2.73200   4.32700   \n",
       "Upper Confidence Interval      157.0   5.481975   1.136493  3.07800   4.46500   \n",
       "Economy (GDP per Capita)       157.0   0.953880   0.412595  0.00000   0.67024   \n",
       "Family                         157.0   0.793621   0.266706  0.00000   0.64184   \n",
       "Health (Life Expectancy)       157.0   0.557619   0.229349  0.00000   0.38291   \n",
       "Freedom                        157.0   0.370994   0.145507  0.00000   0.25748   \n",
       "Trust (Government Corruption)  157.0   0.137624   0.111038  0.00000   0.06126   \n",
       "Generosity                     157.0   0.242635   0.133756  0.00000   0.15457   \n",
       "Dystopia Residual              157.0   2.325807   0.542220  0.81789   2.03171   \n",
       "\n",
       "                                    50%        75%        max  \n",
       "Happiness Rank                 79.00000  118.00000  157.00000  \n",
       "Happiness Score                 5.31400    6.26900    7.52600  \n",
       "Lower Confidence Interval       5.23700    6.15400    7.46000  \n",
       "Upper Confidence Interval       5.41900    6.43400    7.66900  \n",
       "Economy (GDP per Capita)        1.02780    1.27964    1.82427  \n",
       "Family                          0.84142    1.02152    1.18326  \n",
       "Health (Life Expectancy)        0.59659    0.72993    0.95277  \n",
       "Freedom                         0.39747    0.48453    0.60848  \n",
       "Trust (Government Corruption)   0.10547    0.17554    0.50521  \n",
       "Generosity                      0.22245    0.31185    0.81971  \n",
       "Dystopia Residual               2.29074    2.66465    3.83772  "
      ]
     },
     "execution_count": 17,
     "metadata": {},
     "output_type": "execute_result"
    }
   ],
   "source": [
    "df2016.describe().T"
   ]
  },
  {
   "cell_type": "markdown",
   "metadata": {},
   "source": [
    "These are some of the findings I was able to interpret:\n",
    "\n",
    "- Happiness Rank:\n",
    "The average happiness rank is similar to the previous year, around 79. The standard deviation suggests significant variability in the range of happiness across countries, similar to the previous year.\n",
    "\n",
    "- Happiness Score:\n",
    "The average happiness score is comparable to the previous year, around 5.38.\n",
    "The standard deviation suggests significant variability in happiness scores across countries, similar to the previous year.\n",
    "\n",
    "- Trust in Government:\n",
    "Trust in government is also similar to the previous year, with a mean close to 0.14 and a moderate standard deviation. This suggests relative stability in the perception of government corruption among countries compared to the previous year.\n",
    "\n",
    "- GDP per Capita:\n",
    "Average GDP per capita increased compared to the previous year, being approximately 0.95. This could indicate overall economic growth or changes in the distribution of wealth among countries in 2016.\n",
    "\n",
    "- Health - Life Expectancy:\n",
    "Average life expectancy is lower than the previous year, averaging around 0.56. This decline could reflect health problems or changes in medical care in some countries during 2016."
   ]
  },
  {
   "cell_type": "markdown",
   "metadata": {},
   "source": [
    "### 2017 CSV"
   ]
  },
  {
   "cell_type": "code",
   "execution_count": 18,
   "metadata": {
    "metadata": {}
   },
   "outputs": [
    {
     "data": {
      "text/html": [
       "<div>\n",
       "<style scoped>\n",
       "    .dataframe tbody tr th:only-of-type {\n",
       "        vertical-align: middle;\n",
       "    }\n",
       "\n",
       "    .dataframe tbody tr th {\n",
       "        vertical-align: top;\n",
       "    }\n",
       "\n",
       "    .dataframe thead th {\n",
       "        text-align: right;\n",
       "    }\n",
       "</style>\n",
       "<table border=\"1\" class=\"dataframe\">\n",
       "  <thead>\n",
       "    <tr style=\"text-align: right;\">\n",
       "      <th></th>\n",
       "      <th>Country</th>\n",
       "      <th>Happiness.Rank</th>\n",
       "      <th>Happiness.Score</th>\n",
       "      <th>Whisker.high</th>\n",
       "      <th>Whisker.low</th>\n",
       "      <th>Economy..GDP.per.Capita.</th>\n",
       "      <th>Family</th>\n",
       "      <th>Health..Life.Expectancy.</th>\n",
       "      <th>Freedom</th>\n",
       "      <th>Generosity</th>\n",
       "      <th>Trust..Government.Corruption.</th>\n",
       "      <th>Dystopia.Residual</th>\n",
       "    </tr>\n",
       "  </thead>\n",
       "  <tbody>\n",
       "    <tr>\n",
       "      <th>0</th>\n",
       "      <td>Norway</td>\n",
       "      <td>1</td>\n",
       "      <td>7.537</td>\n",
       "      <td>7.594445</td>\n",
       "      <td>7.479556</td>\n",
       "      <td>1.616463</td>\n",
       "      <td>1.533524</td>\n",
       "      <td>0.796667</td>\n",
       "      <td>0.635423</td>\n",
       "      <td>0.362012</td>\n",
       "      <td>0.315964</td>\n",
       "      <td>2.277027</td>\n",
       "    </tr>\n",
       "    <tr>\n",
       "      <th>1</th>\n",
       "      <td>Denmark</td>\n",
       "      <td>2</td>\n",
       "      <td>7.522</td>\n",
       "      <td>7.581728</td>\n",
       "      <td>7.462272</td>\n",
       "      <td>1.482383</td>\n",
       "      <td>1.551122</td>\n",
       "      <td>0.792566</td>\n",
       "      <td>0.626007</td>\n",
       "      <td>0.355280</td>\n",
       "      <td>0.400770</td>\n",
       "      <td>2.313707</td>\n",
       "    </tr>\n",
       "    <tr>\n",
       "      <th>2</th>\n",
       "      <td>Iceland</td>\n",
       "      <td>3</td>\n",
       "      <td>7.504</td>\n",
       "      <td>7.622030</td>\n",
       "      <td>7.385970</td>\n",
       "      <td>1.480633</td>\n",
       "      <td>1.610574</td>\n",
       "      <td>0.833552</td>\n",
       "      <td>0.627163</td>\n",
       "      <td>0.475540</td>\n",
       "      <td>0.153527</td>\n",
       "      <td>2.322715</td>\n",
       "    </tr>\n",
       "    <tr>\n",
       "      <th>3</th>\n",
       "      <td>Switzerland</td>\n",
       "      <td>4</td>\n",
       "      <td>7.494</td>\n",
       "      <td>7.561772</td>\n",
       "      <td>7.426227</td>\n",
       "      <td>1.564980</td>\n",
       "      <td>1.516912</td>\n",
       "      <td>0.858131</td>\n",
       "      <td>0.620071</td>\n",
       "      <td>0.290549</td>\n",
       "      <td>0.367007</td>\n",
       "      <td>2.276716</td>\n",
       "    </tr>\n",
       "    <tr>\n",
       "      <th>4</th>\n",
       "      <td>Finland</td>\n",
       "      <td>5</td>\n",
       "      <td>7.469</td>\n",
       "      <td>7.527542</td>\n",
       "      <td>7.410458</td>\n",
       "      <td>1.443572</td>\n",
       "      <td>1.540247</td>\n",
       "      <td>0.809158</td>\n",
       "      <td>0.617951</td>\n",
       "      <td>0.245483</td>\n",
       "      <td>0.382612</td>\n",
       "      <td>2.430182</td>\n",
       "    </tr>\n",
       "  </tbody>\n",
       "</table>\n",
       "</div>"
      ],
      "text/plain": [
       "       Country  Happiness.Rank  Happiness.Score  Whisker.high  Whisker.low  \\\n",
       "0       Norway               1            7.537      7.594445     7.479556   \n",
       "1      Denmark               2            7.522      7.581728     7.462272   \n",
       "2      Iceland               3            7.504      7.622030     7.385970   \n",
       "3  Switzerland               4            7.494      7.561772     7.426227   \n",
       "4      Finland               5            7.469      7.527542     7.410458   \n",
       "\n",
       "   Economy..GDP.per.Capita.    Family  Health..Life.Expectancy.   Freedom  \\\n",
       "0                  1.616463  1.533524                  0.796667  0.635423   \n",
       "1                  1.482383  1.551122                  0.792566  0.626007   \n",
       "2                  1.480633  1.610574                  0.833552  0.627163   \n",
       "3                  1.564980  1.516912                  0.858131  0.620071   \n",
       "4                  1.443572  1.540247                  0.809158  0.617951   \n",
       "\n",
       "   Generosity  Trust..Government.Corruption.  Dystopia.Residual  \n",
       "0    0.362012                       0.315964           2.277027  \n",
       "1    0.355280                       0.400770           2.313707  \n",
       "2    0.475540                       0.153527           2.322715  \n",
       "3    0.290549                       0.367007           2.276716  \n",
       "4    0.245483                       0.382612           2.430182  "
      ]
     },
     "execution_count": 18,
     "metadata": {},
     "output_type": "execute_result"
    }
   ],
   "source": [
    "df2017=pd.read_csv(\"../Data/2017.csv\")\n",
    "df2017.head(5)"
   ]
  },
  {
   "cell_type": "code",
   "execution_count": 19,
   "metadata": {
    "metadata": {}
   },
   "outputs": [
    {
     "data": {
      "text/plain": [
       "(155, 12)"
      ]
     },
     "execution_count": 19,
     "metadata": {},
     "output_type": "execute_result"
    }
   ],
   "source": [
    "df2017.shape"
   ]
  },
  {
   "cell_type": "markdown",
   "metadata": {},
   "source": [
    "We can see that our dataset has 155 rows and 12 columns."
   ]
  },
  {
   "cell_type": "code",
   "execution_count": 20,
   "metadata": {
    "metadata": {}
   },
   "outputs": [
    {
     "data": {
      "image/png": "[encoded data removed]",
      "text/plain": [
       "<Figure size 500x500 with 1 Axes>"
      ]
     },
     "metadata": {},
     "output_type": "display_data"
    }
   ],
   "source": [
    "data_types_counts = df2017.dtypes.value_counts()\n",
    "\n",
    "colors = ['skyblue']\n",
    "\n",
    "plt.figure(figsize=(5, 5))\n",
    "bar_plot = data_types_counts.plot(kind='bar', color=colors)\n",
    "\n",
    "plt.xlabel('Data type')\n",
    "plt.ylabel('Quantity')\n",
    "plt.title('Counting of data types in the data set')\n",
    "\n",
    "for i, value in enumerate(data_types_counts):\n",
    "    plt.text(i, value + 0, str(value), ha='center', va='bottom')\n",
    "\n",
    "plt.tight_layout()\n",
    "plt.show()"
   ]
  },
  {
   "cell_type": "markdown",
   "metadata": {},
   "source": [
    "We have most of the columns of type “float”."
   ]
  },
  {
   "cell_type": "code",
   "execution_count": 21,
   "metadata": {
    "metadata": {}
   },
   "outputs": [
    {
     "name": "stdout",
     "output_type": "stream",
     "text": [
      "<class 'pandas.core.frame.DataFrame'>\n",
      "RangeIndex: 155 entries, 0 to 154\n",
      "Data columns (total 12 columns):\n",
      " #   Column                         Non-Null Count  Dtype  \n",
      "---  ------                         --------------  -----  \n",
      " 0   Country                        155 non-null    object \n",
      " 1   Happiness.Rank                 155 non-null    int64  \n",
      " 2   Happiness.Score                155 non-null    float64\n",
      " 3   Whisker.high                   155 non-null    float64\n",
      " 4   Whisker.low                    155 non-null    float64\n",
      " 5   Economy..GDP.per.Capita.       155 non-null    float64\n",
      " 6   Family                         155 non-null    float64\n",
      " 7   Health..Life.Expectancy.       155 non-null    float64\n",
      " 8   Freedom                        155 non-null    float64\n",
      " 9   Generosity                     155 non-null    float64\n",
      " 10  Trust..Government.Corruption.  155 non-null    float64\n",
      " 11  Dystopia.Residual              155 non-null    float64\n",
      "dtypes: float64(10), int64(1), object(1)\n",
      "memory usage: 14.7+ KB\n"
     ]
    }
   ],
   "source": [
    "df2017.info()"
   ]
  },
  {
   "cell_type": "markdown",
   "metadata": {},
   "source": [
    "Here we can see what type of data belongs to each column, where we also notice that we do not have null values."
   ]
  },
  {
   "cell_type": "code",
   "execution_count": 22,
   "metadata": {
    "metadata": {}
   },
   "outputs": [
    {
     "data": {
      "text/plain": [
       "Country                          155\n",
       "Happiness.Rank                   155\n",
       "Happiness.Score                  151\n",
       "Whisker.high                     155\n",
       "Whisker.low                      155\n",
       "Economy..GDP.per.Capita.         155\n",
       "Family                           155\n",
       "Health..Life.Expectancy.         155\n",
       "Freedom                          155\n",
       "Generosity                       155\n",
       "Trust..Government.Corruption.    155\n",
       "Dystopia.Residual                155\n",
       "dtype: int64"
      ]
     },
     "execution_count": 22,
     "metadata": {},
     "output_type": "execute_result"
    }
   ],
   "source": [
    "df2017.nunique()"
   ]
  },
  {
   "cell_type": "markdown",
   "metadata": {},
   "source": [
    "Here we can see that the “happiness score” column gives us 151 unique values compared to the other columns where the values are not repeated. Another finding is that the column “region” is not found in this dataset. Later we will see what we can do here for concatenation."
   ]
  },
  {
   "cell_type": "code",
   "execution_count": 23,
   "metadata": {
    "metadata": {}
   },
   "outputs": [
    {
     "data": {
      "text/html": [
       "<div>\n",
       "<style scoped>\n",
       "    .dataframe tbody tr th:only-of-type {\n",
       "        vertical-align: middle;\n",
       "    }\n",
       "\n",
       "    .dataframe tbody tr th {\n",
       "        vertical-align: top;\n",
       "    }\n",
       "\n",
       "    .dataframe thead th {\n",
       "        text-align: right;\n",
       "    }\n",
       "</style>\n",
       "<table border=\"1\" class=\"dataframe\">\n",
       "  <thead>\n",
       "    <tr style=\"text-align: right;\">\n",
       "      <th></th>\n",
       "      <th>Country</th>\n",
       "      <th>Happiness.Rank</th>\n",
       "      <th>Happiness.Score</th>\n",
       "      <th>Whisker.high</th>\n",
       "      <th>Whisker.low</th>\n",
       "      <th>Economy..GDP.per.Capita.</th>\n",
       "      <th>Family</th>\n",
       "      <th>Health..Life.Expectancy.</th>\n",
       "      <th>Freedom</th>\n",
       "      <th>Generosity</th>\n",
       "      <th>Trust..Government.Corruption.</th>\n",
       "      <th>Dystopia.Residual</th>\n",
       "    </tr>\n",
       "  </thead>\n",
       "  <tbody>\n",
       "  </tbody>\n",
       "</table>\n",
       "</div>"
      ],
      "text/plain": [
       "Empty DataFrame\n",
       "Columns: [Country, Happiness.Rank, Happiness.Score, Whisker.high, Whisker.low, Economy..GDP.per.Capita., Family, Health..Life.Expectancy., Freedom, Generosity, Trust..Government.Corruption., Dystopia.Residual]\n",
       "Index: []"
      ]
     },
     "execution_count": 23,
     "metadata": {},
     "output_type": "execute_result"
    }
   ],
   "source": [
    "df2017.loc[df2017.duplicated()]"
   ]
  },
  {
   "cell_type": "markdown",
   "metadata": {},
   "source": [
    "We do NOT have duplicate rows."
   ]
  },
  {
   "cell_type": "code",
   "execution_count": 24,
   "metadata": {
    "metadata": {}
   },
   "outputs": [
    {
     "data": {
      "text/html": [
       "<div>\n",
       "<style scoped>\n",
       "    .dataframe tbody tr th:only-of-type {\n",
       "        vertical-align: middle;\n",
       "    }\n",
       "\n",
       "    .dataframe tbody tr th {\n",
       "        vertical-align: top;\n",
       "    }\n",
       "\n",
       "    .dataframe thead th {\n",
       "        text-align: right;\n",
       "    }\n",
       "</style>\n",
       "<table border=\"1\" class=\"dataframe\">\n",
       "  <thead>\n",
       "    <tr style=\"text-align: right;\">\n",
       "      <th></th>\n",
       "      <th>count</th>\n",
       "      <th>mean</th>\n",
       "      <th>std</th>\n",
       "      <th>min</th>\n",
       "      <th>25%</th>\n",
       "      <th>50%</th>\n",
       "      <th>75%</th>\n",
       "      <th>max</th>\n",
       "    </tr>\n",
       "  </thead>\n",
       "  <tbody>\n",
       "    <tr>\n",
       "      <th>Happiness.Rank</th>\n",
       "      <td>155.0</td>\n",
       "      <td>78.000000</td>\n",
       "      <td>44.888751</td>\n",
       "      <td>1.000000</td>\n",
       "      <td>39.500000</td>\n",
       "      <td>78.000000</td>\n",
       "      <td>116.500000</td>\n",
       "      <td>155.000000</td>\n",
       "    </tr>\n",
       "    <tr>\n",
       "      <th>Happiness.Score</th>\n",
       "      <td>155.0</td>\n",
       "      <td>5.354019</td>\n",
       "      <td>1.131230</td>\n",
       "      <td>2.693000</td>\n",
       "      <td>4.505500</td>\n",
       "      <td>5.279000</td>\n",
       "      <td>6.101500</td>\n",
       "      <td>7.537000</td>\n",
       "    </tr>\n",
       "    <tr>\n",
       "      <th>Whisker.high</th>\n",
       "      <td>155.0</td>\n",
       "      <td>5.452326</td>\n",
       "      <td>1.118542</td>\n",
       "      <td>2.864884</td>\n",
       "      <td>4.608172</td>\n",
       "      <td>5.370032</td>\n",
       "      <td>6.194600</td>\n",
       "      <td>7.622030</td>\n",
       "    </tr>\n",
       "    <tr>\n",
       "      <th>Whisker.low</th>\n",
       "      <td>155.0</td>\n",
       "      <td>5.255713</td>\n",
       "      <td>1.145030</td>\n",
       "      <td>2.521116</td>\n",
       "      <td>4.374955</td>\n",
       "      <td>5.193152</td>\n",
       "      <td>6.006527</td>\n",
       "      <td>7.479556</td>\n",
       "    </tr>\n",
       "    <tr>\n",
       "      <th>Economy..GDP.per.Capita.</th>\n",
       "      <td>155.0</td>\n",
       "      <td>0.984718</td>\n",
       "      <td>0.420793</td>\n",
       "      <td>0.000000</td>\n",
       "      <td>0.663371</td>\n",
       "      <td>1.064578</td>\n",
       "      <td>1.318027</td>\n",
       "      <td>1.870766</td>\n",
       "    </tr>\n",
       "    <tr>\n",
       "      <th>Family</th>\n",
       "      <td>155.0</td>\n",
       "      <td>1.188898</td>\n",
       "      <td>0.287263</td>\n",
       "      <td>0.000000</td>\n",
       "      <td>1.042635</td>\n",
       "      <td>1.253918</td>\n",
       "      <td>1.414316</td>\n",
       "      <td>1.610574</td>\n",
       "    </tr>\n",
       "    <tr>\n",
       "      <th>Health..Life.Expectancy.</th>\n",
       "      <td>155.0</td>\n",
       "      <td>0.551341</td>\n",
       "      <td>0.237073</td>\n",
       "      <td>0.000000</td>\n",
       "      <td>0.369866</td>\n",
       "      <td>0.606042</td>\n",
       "      <td>0.723008</td>\n",
       "      <td>0.949492</td>\n",
       "    </tr>\n",
       "    <tr>\n",
       "      <th>Freedom</th>\n",
       "      <td>155.0</td>\n",
       "      <td>0.408786</td>\n",
       "      <td>0.149997</td>\n",
       "      <td>0.000000</td>\n",
       "      <td>0.303677</td>\n",
       "      <td>0.437454</td>\n",
       "      <td>0.516561</td>\n",
       "      <td>0.658249</td>\n",
       "    </tr>\n",
       "    <tr>\n",
       "      <th>Generosity</th>\n",
       "      <td>155.0</td>\n",
       "      <td>0.246883</td>\n",
       "      <td>0.134780</td>\n",
       "      <td>0.000000</td>\n",
       "      <td>0.154106</td>\n",
       "      <td>0.231538</td>\n",
       "      <td>0.323762</td>\n",
       "      <td>0.838075</td>\n",
       "    </tr>\n",
       "    <tr>\n",
       "      <th>Trust..Government.Corruption.</th>\n",
       "      <td>155.0</td>\n",
       "      <td>0.123120</td>\n",
       "      <td>0.101661</td>\n",
       "      <td>0.000000</td>\n",
       "      <td>0.057271</td>\n",
       "      <td>0.089848</td>\n",
       "      <td>0.153296</td>\n",
       "      <td>0.464308</td>\n",
       "    </tr>\n",
       "    <tr>\n",
       "      <th>Dystopia.Residual</th>\n",
       "      <td>155.0</td>\n",
       "      <td>1.850238</td>\n",
       "      <td>0.500028</td>\n",
       "      <td>0.377914</td>\n",
       "      <td>1.591291</td>\n",
       "      <td>1.832910</td>\n",
       "      <td>2.144654</td>\n",
       "      <td>3.117485</td>\n",
       "    </tr>\n",
       "  </tbody>\n",
       "</table>\n",
       "</div>"
      ],
      "text/plain": [
       "                               count       mean        std       min  \\\n",
       "Happiness.Rank                 155.0  78.000000  44.888751  1.000000   \n",
       "Happiness.Score                155.0   5.354019   1.131230  2.693000   \n",
       "Whisker.high                   155.0   5.452326   1.118542  2.864884   \n",
       "Whisker.low                    155.0   5.255713   1.145030  2.521116   \n",
       "Economy..GDP.per.Capita.       155.0   0.984718   0.420793  0.000000   \n",
       "Family                         155.0   1.188898   0.287263  0.000000   \n",
       "Health..Life.Expectancy.       155.0   0.551341   0.237073  0.000000   \n",
       "Freedom                        155.0   0.408786   0.149997  0.000000   \n",
       "Generosity                     155.0   0.246883   0.134780  0.000000   \n",
       "Trust..Government.Corruption.  155.0   0.123120   0.101661  0.000000   \n",
       "Dystopia.Residual              155.0   1.850238   0.500028  0.377914   \n",
       "\n",
       "                                     25%        50%         75%         max  \n",
       "Happiness.Rank                 39.500000  78.000000  116.500000  155.000000  \n",
       "Happiness.Score                 4.505500   5.279000    6.101500    7.537000  \n",
       "Whisker.high                    4.608172   5.370032    6.194600    7.622030  \n",
       "Whisker.low                     4.374955   5.193152    6.006527    7.479556  \n",
       "Economy..GDP.per.Capita.        0.663371   1.064578    1.318027    1.870766  \n",
       "Family                          1.042635   1.253918    1.414316    1.610574  \n",
       "Health..Life.Expectancy.        0.369866   0.606042    0.723008    0.949492  \n",
       "Freedom                         0.303677   0.437454    0.516561    0.658249  \n",
       "Generosity                      0.154106   0.231538    0.323762    0.838075  \n",
       "Trust..Government.Corruption.   0.057271   0.089848    0.153296    0.464308  \n",
       "Dystopia.Residual               1.591291   1.832910    2.144654    3.117485  "
      ]
     },
     "execution_count": 24,
     "metadata": {},
     "output_type": "execute_result"
    }
   ],
   "source": [
    "df2017.describe().T"
   ]
  },
  {
   "cell_type": "markdown",
   "metadata": {},
   "source": [
    "- Happiness Rank:\n",
    "        The happiness rank has a mean of about 78 with a standard deviation of about 44.89, indicating a large dispersion in happiness ranking among countries.\n",
    "        The interquartile range (IQR) is 77 units, suggesting that 50% of the countries have a happiness rank within this range.\n",
    "\n",
    "- Happiness Score:\n",
    "        The happiness score has a mean of about 5.35 with a standard deviation of about 1.13, indicating considerable variability in happiness across countries.\n",
    "        The IQR is about 1.60 units, suggesting that half of the countries have a happiness score within this range.\n",
    "\n",
    "- Economy (GDP per Capita):\n",
    "        GDP per capita has a mean of about 0.98 with a standard deviation of about 0.42, indicating significant variability in economic development across countries.\n",
    "        The IQR is about 0.65 units, suggesting that 50% of the countries have a GDP per capita within this range.\n",
    "\n",
    "- Health (Life Expectancy):\n",
    "Life expectancy has a mean of about 0.55 with a standard deviation of about 0.24, indicating variability across countries in terms of health and well-being.\n",
    "    The IQR is about 0.35 units, suggesting that half of the countries have a life expectancy within this range.\n",
    "\n"
   ]
  },
  {
   "cell_type": "markdown",
   "metadata": {},
   "source": [
    "### 2018 CSV"
   ]
  },
  {
   "cell_type": "code",
   "execution_count": 25,
   "metadata": {
    "metadata": {}
   },
   "outputs": [
    {
     "data": {
      "text/html": [
       "<div>\n",
       "<style scoped>\n",
       "    .dataframe tbody tr th:only-of-type {\n",
       "        vertical-align: middle;\n",
       "    }\n",
       "\n",
       "    .dataframe tbody tr th {\n",
       "        vertical-align: top;\n",
       "    }\n",
       "\n",
       "    .dataframe thead th {\n",
       "        text-align: right;\n",
       "    }\n",
       "</style>\n",
       "<table border=\"1\" class=\"dataframe\">\n",
       "  <thead>\n",
       "    <tr style=\"text-align: right;\">\n",
       "      <th></th>\n",
       "      <th>Overall rank</th>\n",
       "      <th>Country or region</th>\n",
       "      <th>Score</th>\n",
       "      <th>GDP per capita</th>\n",
       "      <th>Social support</th>\n",
       "      <th>Healthy life expectancy</th>\n",
       "      <th>Freedom to make life choices</th>\n",
       "      <th>Generosity</th>\n",
       "      <th>Perceptions of corruption</th>\n",
       "    </tr>\n",
       "  </thead>\n",
       "  <tbody>\n",
       "    <tr>\n",
       "      <th>0</th>\n",
       "      <td>1</td>\n",
       "      <td>Finland</td>\n",
       "      <td>7.632</td>\n",
       "      <td>1.305</td>\n",
       "      <td>1.592</td>\n",
       "      <td>0.874</td>\n",
       "      <td>0.681</td>\n",
       "      <td>0.202</td>\n",
       "      <td>0.393</td>\n",
       "    </tr>\n",
       "    <tr>\n",
       "      <th>1</th>\n",
       "      <td>2</td>\n",
       "      <td>Norway</td>\n",
       "      <td>7.594</td>\n",
       "      <td>1.456</td>\n",
       "      <td>1.582</td>\n",
       "      <td>0.861</td>\n",
       "      <td>0.686</td>\n",
       "      <td>0.286</td>\n",
       "      <td>0.340</td>\n",
       "    </tr>\n",
       "    <tr>\n",
       "      <th>2</th>\n",
       "      <td>3</td>\n",
       "      <td>Denmark</td>\n",
       "      <td>7.555</td>\n",
       "      <td>1.351</td>\n",
       "      <td>1.590</td>\n",
       "      <td>0.868</td>\n",
       "      <td>0.683</td>\n",
       "      <td>0.284</td>\n",
       "      <td>0.408</td>\n",
       "    </tr>\n",
       "    <tr>\n",
       "      <th>3</th>\n",
       "      <td>4</td>\n",
       "      <td>Iceland</td>\n",
       "      <td>7.495</td>\n",
       "      <td>1.343</td>\n",
       "      <td>1.644</td>\n",
       "      <td>0.914</td>\n",
       "      <td>0.677</td>\n",
       "      <td>0.353</td>\n",
       "      <td>0.138</td>\n",
       "    </tr>\n",
       "    <tr>\n",
       "      <th>4</th>\n",
       "      <td>5</td>\n",
       "      <td>Switzerland</td>\n",
       "      <td>7.487</td>\n",
       "      <td>1.420</td>\n",
       "      <td>1.549</td>\n",
       "      <td>0.927</td>\n",
       "      <td>0.660</td>\n",
       "      <td>0.256</td>\n",
       "      <td>0.357</td>\n",
       "    </tr>\n",
       "  </tbody>\n",
       "</table>\n",
       "</div>"
      ],
      "text/plain": [
       "   Overall rank Country or region  Score  GDP per capita  Social support  \\\n",
       "0             1           Finland  7.632           1.305           1.592   \n",
       "1             2            Norway  7.594           1.456           1.582   \n",
       "2             3           Denmark  7.555           1.351           1.590   \n",
       "3             4           Iceland  7.495           1.343           1.644   \n",
       "4             5       Switzerland  7.487           1.420           1.549   \n",
       "\n",
       "   Healthy life expectancy  Freedom to make life choices  Generosity  \\\n",
       "0                    0.874                         0.681       0.202   \n",
       "1                    0.861                         0.686       0.286   \n",
       "2                    0.868                         0.683       0.284   \n",
       "3                    0.914                         0.677       0.353   \n",
       "4                    0.927                         0.660       0.256   \n",
       "\n",
       "   Perceptions of corruption  \n",
       "0                      0.393  \n",
       "1                      0.340  \n",
       "2                      0.408  \n",
       "3                      0.138  \n",
       "4                      0.357  "
      ]
     },
     "execution_count": 25,
     "metadata": {},
     "output_type": "execute_result"
    }
   ],
   "source": [
    "df2018=pd.read_csv(\"../Data/2018.csv\")\n",
    "df2018.head(5)"
   ]
  },
  {
   "cell_type": "markdown",
   "metadata": {},
   "source": [
    "One finding I was able to make, was that we do not have the “region” column directly, but it is called “Country or region”; but later we will see what we can do with this."
   ]
  },
  {
   "cell_type": "code",
   "execution_count": 26,
   "metadata": {
    "metadata": {}
   },
   "outputs": [
    {
     "data": {
      "text/plain": [
       "(156, 9)"
      ]
     },
     "execution_count": 26,
     "metadata": {},
     "output_type": "execute_result"
    }
   ],
   "source": [
    "df2018.shape"
   ]
  },
  {
   "cell_type": "markdown",
   "metadata": {},
   "source": [
    "We can see that our dataset has 156 rows and 9 columns."
   ]
  },
  {
   "cell_type": "code",
   "execution_count": 27,
   "metadata": {
    "metadata": {}
   },
   "outputs": [
    {
     "data": {
      "image/png": "[encoded data removed]",
      "text/plain": [
       "<Figure size 500x500 with 1 Axes>"
      ]
     },
     "metadata": {},
     "output_type": "display_data"
    }
   ],
   "source": [
    "data_types_counts = df2018.dtypes.value_counts()\n",
    "\n",
    "colors = ['skyblue']\n",
    "\n",
    "plt.figure(figsize=(5, 5))\n",
    "bar_plot = data_types_counts.plot(kind='bar', color=colors)\n",
    "\n",
    "plt.xlabel('Data type')\n",
    "plt.ylabel('Quantity')\n",
    "plt.title('Counting of data types in the data set')\n",
    "\n",
    "for i, value in enumerate(data_types_counts):\n",
    "    plt.text(i, value + 0, str(value), ha='center', va='bottom')\n",
    "\n",
    "plt.tight_layout()\n",
    "plt.show()"
   ]
  },
  {
   "cell_type": "markdown",
   "metadata": {},
   "source": [
    "We have most of the columns of type “float”."
   ]
  },
  {
   "cell_type": "code",
   "execution_count": 28,
   "metadata": {
    "metadata": {}
   },
   "outputs": [
    {
     "name": "stdout",
     "output_type": "stream",
     "text": [
      "<class 'pandas.core.frame.DataFrame'>\n",
      "RangeIndex: 156 entries, 0 to 155\n",
      "Data columns (total 9 columns):\n",
      " #   Column                        Non-Null Count  Dtype  \n",
      "---  ------                        --------------  -----  \n",
      " 0   Overall rank                  156 non-null    int64  \n",
      " 1   Country or region             156 non-null    object \n",
      " 2   Score                         156 non-null    float64\n",
      " 3   GDP per capita                156 non-null    float64\n",
      " 4   Social support                156 non-null    float64\n",
      " 5   Healthy life expectancy       156 non-null    float64\n",
      " 6   Freedom to make life choices  156 non-null    float64\n",
      " 7   Generosity                    156 non-null    float64\n",
      " 8   Perceptions of corruption     155 non-null    float64\n",
      "dtypes: float64(7), int64(1), object(1)\n",
      "memory usage: 11.1+ KB\n"
     ]
    }
   ],
   "source": [
    "df2018.info()"
   ]
  },
  {
   "cell_type": "markdown",
   "metadata": {},
   "source": [
    "We can see that we have a null value in the column “Perceptions of corruption”, let's see which row it is."
   ]
  },
  {
   "cell_type": "code",
   "execution_count": 29,
   "metadata": {
    "metadata": {}
   },
   "outputs": [
    {
     "data": {
      "text/html": [
       "<div>\n",
       "<style scoped>\n",
       "    .dataframe tbody tr th:only-of-type {\n",
       "        vertical-align: middle;\n",
       "    }\n",
       "\n",
       "    .dataframe tbody tr th {\n",
       "        vertical-align: top;\n",
       "    }\n",
       "\n",
       "    .dataframe thead th {\n",
       "        text-align: right;\n",
       "    }\n",
       "</style>\n",
       "<table border=\"1\" class=\"dataframe\">\n",
       "  <thead>\n",
       "    <tr style=\"text-align: right;\">\n",
       "      <th></th>\n",
       "      <th>Overall rank</th>\n",
       "      <th>Country or region</th>\n",
       "      <th>Score</th>\n",
       "      <th>GDP per capita</th>\n",
       "      <th>Social support</th>\n",
       "      <th>Healthy life expectancy</th>\n",
       "      <th>Freedom to make life choices</th>\n",
       "      <th>Generosity</th>\n",
       "      <th>Perceptions of corruption</th>\n",
       "    </tr>\n",
       "  </thead>\n",
       "  <tbody>\n",
       "    <tr>\n",
       "      <th>19</th>\n",
       "      <td>20</td>\n",
       "      <td>United Arab Emirates</td>\n",
       "      <td>6.774</td>\n",
       "      <td>2.096</td>\n",
       "      <td>0.776</td>\n",
       "      <td>0.67</td>\n",
       "      <td>0.284</td>\n",
       "      <td>0.186</td>\n",
       "      <td>NaN</td>\n",
       "    </tr>\n",
       "  </tbody>\n",
       "</table>\n",
       "</div>"
      ],
      "text/plain": [
       "    Overall rank     Country or region  Score  GDP per capita  Social support  \\\n",
       "19            20  United Arab Emirates  6.774           2.096           0.776   \n",
       "\n",
       "    Healthy life expectancy  Freedom to make life choices  Generosity  \\\n",
       "19                     0.67                         0.284       0.186   \n",
       "\n",
       "    Perceptions of corruption  \n",
       "19                        NaN  "
      ]
     },
     "execution_count": 29,
     "metadata": {},
     "output_type": "execute_result"
    }
   ],
   "source": [
    "null_rows = df2018[df2018['Perceptions of corruption'].isnull()]\n",
    "null_rows"
   ]
  },
  {
   "cell_type": "markdown",
   "metadata": {},
   "source": [
    "Let's eliminate that row with null value, since it is not convenient to have null values in our project for the construction of the model:"
   ]
  },
  {
   "cell_type": "code",
   "execution_count": 30,
   "metadata": {
    "metadata": {}
   },
   "outputs": [
    {
     "name": "stdout",
     "output_type": "stream",
     "text": [
      "The row was deleted perfectly!\n"
     ]
    }
   ],
   "source": [
    "df2018 = df2018.dropna(subset=['Perceptions of corruption'])\n",
    "print(\"The row was deleted perfectly!\")"
   ]
  },
  {
   "cell_type": "markdown",
   "metadata": {},
   "source": [
    "Now, let's look at our descriptive analysis by columns:"
   ]
  },
  {
   "cell_type": "code",
   "execution_count": 31,
   "metadata": {
    "metadata": {}
   },
   "outputs": [
    {
     "data": {
      "text/html": [
       "<div>\n",
       "<style scoped>\n",
       "    .dataframe tbody tr th:only-of-type {\n",
       "        vertical-align: middle;\n",
       "    }\n",
       "\n",
       "    .dataframe tbody tr th {\n",
       "        vertical-align: top;\n",
       "    }\n",
       "\n",
       "    .dataframe thead th {\n",
       "        text-align: right;\n",
       "    }\n",
       "</style>\n",
       "<table border=\"1\" class=\"dataframe\">\n",
       "  <thead>\n",
       "    <tr style=\"text-align: right;\">\n",
       "      <th></th>\n",
       "      <th>count</th>\n",
       "      <th>mean</th>\n",
       "      <th>std</th>\n",
       "      <th>min</th>\n",
       "      <th>25%</th>\n",
       "      <th>50%</th>\n",
       "      <th>75%</th>\n",
       "      <th>max</th>\n",
       "    </tr>\n",
       "  </thead>\n",
       "  <tbody>\n",
       "    <tr>\n",
       "      <th>Overall rank</th>\n",
       "      <td>155.0</td>\n",
       "      <td>78.877419</td>\n",
       "      <td>45.076463</td>\n",
       "      <td>1.000</td>\n",
       "      <td>40.5000</td>\n",
       "      <td>79.000</td>\n",
       "      <td>117.5000</td>\n",
       "      <td>156.000</td>\n",
       "    </tr>\n",
       "    <tr>\n",
       "      <th>Score</th>\n",
       "      <td>155.0</td>\n",
       "      <td>5.366897</td>\n",
       "      <td>1.117433</td>\n",
       "      <td>2.905</td>\n",
       "      <td>4.4515</td>\n",
       "      <td>5.358</td>\n",
       "      <td>6.1540</td>\n",
       "      <td>7.632</td>\n",
       "    </tr>\n",
       "    <tr>\n",
       "      <th>GDP per capita</th>\n",
       "      <td>155.0</td>\n",
       "      <td>0.883677</td>\n",
       "      <td>0.380942</td>\n",
       "      <td>0.000</td>\n",
       "      <td>0.6125</td>\n",
       "      <td>0.940</td>\n",
       "      <td>1.1925</td>\n",
       "      <td>1.649</td>\n",
       "    </tr>\n",
       "    <tr>\n",
       "      <th>Social support</th>\n",
       "      <td>155.0</td>\n",
       "      <td>1.216058</td>\n",
       "      <td>0.301286</td>\n",
       "      <td>0.000</td>\n",
       "      <td>1.0755</td>\n",
       "      <td>1.258</td>\n",
       "      <td>1.4640</td>\n",
       "      <td>1.644</td>\n",
       "    </tr>\n",
       "    <tr>\n",
       "      <th>Healthy life expectancy</th>\n",
       "      <td>155.0</td>\n",
       "      <td>0.596877</td>\n",
       "      <td>0.248312</td>\n",
       "      <td>0.000</td>\n",
       "      <td>0.4205</td>\n",
       "      <td>0.643</td>\n",
       "      <td>0.7785</td>\n",
       "      <td>1.030</td>\n",
       "    </tr>\n",
       "    <tr>\n",
       "      <th>Freedom to make life choices</th>\n",
       "      <td>155.0</td>\n",
       "      <td>0.455606</td>\n",
       "      <td>0.162367</td>\n",
       "      <td>0.000</td>\n",
       "      <td>0.3575</td>\n",
       "      <td>0.493</td>\n",
       "      <td>0.5790</td>\n",
       "      <td>0.724</td>\n",
       "    </tr>\n",
       "    <tr>\n",
       "      <th>Generosity</th>\n",
       "      <td>155.0</td>\n",
       "      <td>0.180974</td>\n",
       "      <td>0.098789</td>\n",
       "      <td>0.000</td>\n",
       "      <td>0.1090</td>\n",
       "      <td>0.173</td>\n",
       "      <td>0.2400</td>\n",
       "      <td>0.598</td>\n",
       "    </tr>\n",
       "    <tr>\n",
       "      <th>Perceptions of corruption</th>\n",
       "      <td>155.0</td>\n",
       "      <td>0.112000</td>\n",
       "      <td>0.096492</td>\n",
       "      <td>0.000</td>\n",
       "      <td>0.0510</td>\n",
       "      <td>0.082</td>\n",
       "      <td>0.1370</td>\n",
       "      <td>0.457</td>\n",
       "    </tr>\n",
       "  </tbody>\n",
       "</table>\n",
       "</div>"
      ],
      "text/plain": [
       "                              count       mean        std    min      25%  \\\n",
       "Overall rank                  155.0  78.877419  45.076463  1.000  40.5000   \n",
       "Score                         155.0   5.366897   1.117433  2.905   4.4515   \n",
       "GDP per capita                155.0   0.883677   0.380942  0.000   0.6125   \n",
       "Social support                155.0   1.216058   0.301286  0.000   1.0755   \n",
       "Healthy life expectancy       155.0   0.596877   0.248312  0.000   0.4205   \n",
       "Freedom to make life choices  155.0   0.455606   0.162367  0.000   0.3575   \n",
       "Generosity                    155.0   0.180974   0.098789  0.000   0.1090   \n",
       "Perceptions of corruption     155.0   0.112000   0.096492  0.000   0.0510   \n",
       "\n",
       "                                 50%       75%      max  \n",
       "Overall rank                  79.000  117.5000  156.000  \n",
       "Score                          5.358    6.1540    7.632  \n",
       "GDP per capita                 0.940    1.1925    1.649  \n",
       "Social support                 1.258    1.4640    1.644  \n",
       "Healthy life expectancy        0.643    0.7785    1.030  \n",
       "Freedom to make life choices   0.493    0.5790    0.724  \n",
       "Generosity                     0.173    0.2400    0.598  \n",
       "Perceptions of corruption      0.082    0.1370    0.457  "
      ]
     },
     "execution_count": 31,
     "metadata": {},
     "output_type": "execute_result"
    }
   ],
   "source": [
    "df2018.describe().T"
   ]
  },
  {
   "cell_type": "markdown",
   "metadata": {},
   "source": [
    "- Overall Rank:\n",
    "        The overall rank has a mean of about 78.88 with a standard deviation of about 45.08, indicating wide variability in the overall rank among countries.\n",
    "        The interquartile range (IQR) is 77 units, suggesting that 50% of the countries have an overall rank within this range.\n",
    "\n",
    "- Happiness Score:\n",
    "        The happiness score has a mean of about 5.37 with a standard deviation of about 1.12, indicating considerable variability in happiness across countries.\n",
    "        The IQR is about 1.70 units, suggesting that half of the countries have a happiness score within this range.\n",
    "\n",
    "- GDP per Capita:\n",
    "        GDP per capita has a mean of about 0.88 with a standard deviation of about 0.38, indicating significant variability in economic development across countries.\n",
    "        The IQR is about 0.58 units, suggesting that 50% of the countries have GDP per capita within this range.\n",
    "\n",
    "- Social Support:\n",
    "        Social support has a mean of about 1.22 with a standard deviation of about 0.30, indicating variability in social support across countries.\n",
    "        The IQR is about 0.39 units, suggesting that half of the countries have a level of social support within this range."
   ]
  },
  {
   "cell_type": "markdown",
   "metadata": {},
   "source": [
    "### 2019 CSV"
   ]
  },
  {
   "cell_type": "code",
   "execution_count": 32,
   "metadata": {
    "metadata": {}
   },
   "outputs": [
    {
     "data": {
      "text/html": [
       "<div>\n",
       "<style scoped>\n",
       "    .dataframe tbody tr th:only-of-type {\n",
       "        vertical-align: middle;\n",
       "    }\n",
       "\n",
       "    .dataframe tbody tr th {\n",
       "        vertical-align: top;\n",
       "    }\n",
       "\n",
       "    .dataframe thead th {\n",
       "        text-align: right;\n",
       "    }\n",
       "</style>\n",
       "<table border=\"1\" class=\"dataframe\">\n",
       "  <thead>\n",
       "    <tr style=\"text-align: right;\">\n",
       "      <th></th>\n",
       "      <th>Overall rank</th>\n",
       "      <th>Country or region</th>\n",
       "      <th>Score</th>\n",
       "      <th>GDP per capita</th>\n",
       "      <th>Social support</th>\n",
       "      <th>Healthy life expectancy</th>\n",
       "      <th>Freedom to make life choices</th>\n",
       "      <th>Generosity</th>\n",
       "      <th>Perceptions of corruption</th>\n",
       "    </tr>\n",
       "  </thead>\n",
       "  <tbody>\n",
       "    <tr>\n",
       "      <th>0</th>\n",
       "      <td>1</td>\n",
       "      <td>Finland</td>\n",
       "      <td>7.769</td>\n",
       "      <td>1.340</td>\n",
       "      <td>1.587</td>\n",
       "      <td>0.986</td>\n",
       "      <td>0.596</td>\n",
       "      <td>0.153</td>\n",
       "      <td>0.393</td>\n",
       "    </tr>\n",
       "    <tr>\n",
       "      <th>1</th>\n",
       "      <td>2</td>\n",
       "      <td>Denmark</td>\n",
       "      <td>7.600</td>\n",
       "      <td>1.383</td>\n",
       "      <td>1.573</td>\n",
       "      <td>0.996</td>\n",
       "      <td>0.592</td>\n",
       "      <td>0.252</td>\n",
       "      <td>0.410</td>\n",
       "    </tr>\n",
       "    <tr>\n",
       "      <th>2</th>\n",
       "      <td>3</td>\n",
       "      <td>Norway</td>\n",
       "      <td>7.554</td>\n",
       "      <td>1.488</td>\n",
       "      <td>1.582</td>\n",
       "      <td>1.028</td>\n",
       "      <td>0.603</td>\n",
       "      <td>0.271</td>\n",
       "      <td>0.341</td>\n",
       "    </tr>\n",
       "    <tr>\n",
       "      <th>3</th>\n",
       "      <td>4</td>\n",
       "      <td>Iceland</td>\n",
       "      <td>7.494</td>\n",
       "      <td>1.380</td>\n",
       "      <td>1.624</td>\n",
       "      <td>1.026</td>\n",
       "      <td>0.591</td>\n",
       "      <td>0.354</td>\n",
       "      <td>0.118</td>\n",
       "    </tr>\n",
       "    <tr>\n",
       "      <th>4</th>\n",
       "      <td>5</td>\n",
       "      <td>Netherlands</td>\n",
       "      <td>7.488</td>\n",
       "      <td>1.396</td>\n",
       "      <td>1.522</td>\n",
       "      <td>0.999</td>\n",
       "      <td>0.557</td>\n",
       "      <td>0.322</td>\n",
       "      <td>0.298</td>\n",
       "    </tr>\n",
       "  </tbody>\n",
       "</table>\n",
       "</div>"
      ],
      "text/plain": [
       "   Overall rank Country or region  Score  GDP per capita  Social support  \\\n",
       "0             1           Finland  7.769           1.340           1.587   \n",
       "1             2           Denmark  7.600           1.383           1.573   \n",
       "2             3            Norway  7.554           1.488           1.582   \n",
       "3             4           Iceland  7.494           1.380           1.624   \n",
       "4             5       Netherlands  7.488           1.396           1.522   \n",
       "\n",
       "   Healthy life expectancy  Freedom to make life choices  Generosity  \\\n",
       "0                    0.986                         0.596       0.153   \n",
       "1                    0.996                         0.592       0.252   \n",
       "2                    1.028                         0.603       0.271   \n",
       "3                    1.026                         0.591       0.354   \n",
       "4                    0.999                         0.557       0.322   \n",
       "\n",
       "   Perceptions of corruption  \n",
       "0                      0.393  \n",
       "1                      0.410  \n",
       "2                      0.341  \n",
       "3                      0.118  \n",
       "4                      0.298  "
      ]
     },
     "execution_count": 32,
     "metadata": {},
     "output_type": "execute_result"
    }
   ],
   "source": [
    "df2019=pd.read_csv(\"../Data/2019.csv\")\n",
    "df2019.head(5)"
   ]
  },
  {
   "cell_type": "markdown",
   "metadata": {},
   "source": [
    "As in the previous csv we can see the column “Country or region” in this dataset."
   ]
  },
  {
   "cell_type": "code",
   "execution_count": 33,
   "metadata": {
    "metadata": {}
   },
   "outputs": [
    {
     "data": {
      "text/plain": [
       "(156, 9)"
      ]
     },
     "execution_count": 33,
     "metadata": {},
     "output_type": "execute_result"
    }
   ],
   "source": [
    "df2019.shape"
   ]
  },
  {
   "cell_type": "markdown",
   "metadata": {},
   "source": [
    "We can see that our dataset has 156 rows and 9 columns."
   ]
  },
  {
   "cell_type": "code",
   "execution_count": 34,
   "metadata": {
    "metadata": {}
   },
   "outputs": [
    {
     "data": {
      "image/png": "[encoded data removed]",
      "text/plain": [
       "<Figure size 500x500 with 1 Axes>"
      ]
     },
     "metadata": {},
     "output_type": "display_data"
    }
   ],
   "source": [
    "data_types_counts = df2019.dtypes.value_counts()\n",
    "\n",
    "colors = ['skyblue']\n",
    "\n",
    "plt.figure(figsize=(5, 5))\n",
    "bar_plot = data_types_counts.plot(kind='bar', color=colors)\n",
    "\n",
    "plt.xlabel('Data type')\n",
    "plt.ylabel('Quantity')\n",
    "plt.title('Counting of data types in the data set')\n",
    "\n",
    "for i, value in enumerate(data_types_counts):\n",
    "    plt.text(i, value + 0, str(value), ha='center', va='bottom')\n",
    "\n",
    "plt.tight_layout()\n",
    "plt.show()"
   ]
  },
  {
   "cell_type": "code",
   "execution_count": 35,
   "metadata": {
    "metadata": {}
   },
   "outputs": [
    {
     "name": "stdout",
     "output_type": "stream",
     "text": [
      "<class 'pandas.core.frame.DataFrame'>\n",
      "RangeIndex: 156 entries, 0 to 155\n",
      "Data columns (total 9 columns):\n",
      " #   Column                        Non-Null Count  Dtype  \n",
      "---  ------                        --------------  -----  \n",
      " 0   Overall rank                  156 non-null    int64  \n",
      " 1   Country or region             156 non-null    object \n",
      " 2   Score                         156 non-null    float64\n",
      " 3   GDP per capita                156 non-null    float64\n",
      " 4   Social support                156 non-null    float64\n",
      " 5   Healthy life expectancy       156 non-null    float64\n",
      " 6   Freedom to make life choices  156 non-null    float64\n",
      " 7   Generosity                    156 non-null    float64\n",
      " 8   Perceptions of corruption     156 non-null    float64\n",
      "dtypes: float64(7), int64(1), object(1)\n",
      "memory usage: 11.1+ KB\n"
     ]
    }
   ],
   "source": [
    "df2019.info()"
   ]
  },
  {
   "cell_type": "markdown",
   "metadata": {},
   "source": [
    "There are no null values, which is really significant, and we can see to which column each data type belongs."
   ]
  },
  {
   "cell_type": "code",
   "execution_count": 36,
   "metadata": {
    "metadata": {}
   },
   "outputs": [
    {
     "data": {
      "text/html": [
       "<div>\n",
       "<style scoped>\n",
       "    .dataframe tbody tr th:only-of-type {\n",
       "        vertical-align: middle;\n",
       "    }\n",
       "\n",
       "    .dataframe tbody tr th {\n",
       "        vertical-align: top;\n",
       "    }\n",
       "\n",
       "    .dataframe thead th {\n",
       "        text-align: right;\n",
       "    }\n",
       "</style>\n",
       "<table border=\"1\" class=\"dataframe\">\n",
       "  <thead>\n",
       "    <tr style=\"text-align: right;\">\n",
       "      <th></th>\n",
       "      <th>count</th>\n",
       "      <th>mean</th>\n",
       "      <th>std</th>\n",
       "      <th>min</th>\n",
       "      <th>25%</th>\n",
       "      <th>50%</th>\n",
       "      <th>75%</th>\n",
       "      <th>max</th>\n",
       "    </tr>\n",
       "  </thead>\n",
       "  <tbody>\n",
       "    <tr>\n",
       "      <th>Overall rank</th>\n",
       "      <td>156.0</td>\n",
       "      <td>78.500000</td>\n",
       "      <td>45.177428</td>\n",
       "      <td>1.000</td>\n",
       "      <td>39.75000</td>\n",
       "      <td>78.5000</td>\n",
       "      <td>117.25000</td>\n",
       "      <td>156.000</td>\n",
       "    </tr>\n",
       "    <tr>\n",
       "      <th>Score</th>\n",
       "      <td>156.0</td>\n",
       "      <td>5.407096</td>\n",
       "      <td>1.113120</td>\n",
       "      <td>2.853</td>\n",
       "      <td>4.54450</td>\n",
       "      <td>5.3795</td>\n",
       "      <td>6.18450</td>\n",
       "      <td>7.769</td>\n",
       "    </tr>\n",
       "    <tr>\n",
       "      <th>GDP per capita</th>\n",
       "      <td>156.0</td>\n",
       "      <td>0.905147</td>\n",
       "      <td>0.398389</td>\n",
       "      <td>0.000</td>\n",
       "      <td>0.60275</td>\n",
       "      <td>0.9600</td>\n",
       "      <td>1.23250</td>\n",
       "      <td>1.684</td>\n",
       "    </tr>\n",
       "    <tr>\n",
       "      <th>Social support</th>\n",
       "      <td>156.0</td>\n",
       "      <td>1.208814</td>\n",
       "      <td>0.299191</td>\n",
       "      <td>0.000</td>\n",
       "      <td>1.05575</td>\n",
       "      <td>1.2715</td>\n",
       "      <td>1.45250</td>\n",
       "      <td>1.624</td>\n",
       "    </tr>\n",
       "    <tr>\n",
       "      <th>Healthy life expectancy</th>\n",
       "      <td>156.0</td>\n",
       "      <td>0.725244</td>\n",
       "      <td>0.242124</td>\n",
       "      <td>0.000</td>\n",
       "      <td>0.54775</td>\n",
       "      <td>0.7890</td>\n",
       "      <td>0.88175</td>\n",
       "      <td>1.141</td>\n",
       "    </tr>\n",
       "    <tr>\n",
       "      <th>Freedom to make life choices</th>\n",
       "      <td>156.0</td>\n",
       "      <td>0.392571</td>\n",
       "      <td>0.143289</td>\n",
       "      <td>0.000</td>\n",
       "      <td>0.30800</td>\n",
       "      <td>0.4170</td>\n",
       "      <td>0.50725</td>\n",
       "      <td>0.631</td>\n",
       "    </tr>\n",
       "    <tr>\n",
       "      <th>Generosity</th>\n",
       "      <td>156.0</td>\n",
       "      <td>0.184846</td>\n",
       "      <td>0.095254</td>\n",
       "      <td>0.000</td>\n",
       "      <td>0.10875</td>\n",
       "      <td>0.1775</td>\n",
       "      <td>0.24825</td>\n",
       "      <td>0.566</td>\n",
       "    </tr>\n",
       "    <tr>\n",
       "      <th>Perceptions of corruption</th>\n",
       "      <td>156.0</td>\n",
       "      <td>0.110603</td>\n",
       "      <td>0.094538</td>\n",
       "      <td>0.000</td>\n",
       "      <td>0.04700</td>\n",
       "      <td>0.0855</td>\n",
       "      <td>0.14125</td>\n",
       "      <td>0.453</td>\n",
       "    </tr>\n",
       "  </tbody>\n",
       "</table>\n",
       "</div>"
      ],
      "text/plain": [
       "                              count       mean        std    min       25%  \\\n",
       "Overall rank                  156.0  78.500000  45.177428  1.000  39.75000   \n",
       "Score                         156.0   5.407096   1.113120  2.853   4.54450   \n",
       "GDP per capita                156.0   0.905147   0.398389  0.000   0.60275   \n",
       "Social support                156.0   1.208814   0.299191  0.000   1.05575   \n",
       "Healthy life expectancy       156.0   0.725244   0.242124  0.000   0.54775   \n",
       "Freedom to make life choices  156.0   0.392571   0.143289  0.000   0.30800   \n",
       "Generosity                    156.0   0.184846   0.095254  0.000   0.10875   \n",
       "Perceptions of corruption     156.0   0.110603   0.094538  0.000   0.04700   \n",
       "\n",
       "                                  50%        75%      max  \n",
       "Overall rank                  78.5000  117.25000  156.000  \n",
       "Score                          5.3795    6.18450    7.769  \n",
       "GDP per capita                 0.9600    1.23250    1.684  \n",
       "Social support                 1.2715    1.45250    1.624  \n",
       "Healthy life expectancy        0.7890    0.88175    1.141  \n",
       "Freedom to make life choices   0.4170    0.50725    0.631  \n",
       "Generosity                     0.1775    0.24825    0.566  \n",
       "Perceptions of corruption      0.0855    0.14125    0.453  "
      ]
     },
     "execution_count": 36,
     "metadata": {},
     "output_type": "execute_result"
    }
   ],
   "source": [
    "df2019.describe().T"
   ]
  },
  {
   "cell_type": "markdown",
   "metadata": {},
   "source": [
    "- Overall Rank:\n",
    "        The overall rank has a mean of about 78.5 with a standard deviation of about 45.18, indicating wide variability in the overall rank among countries.\n",
    "        The interquartile range (IQR) is 77.5 units, suggesting that 50% of the countries have an overall rank within this range.\n",
    "\n",
    "- Happiness Score:\n",
    "        The happiness score has a mean of about 5.41 with a standard deviation of about 1.11, indicating considerable variability in happiness across countries.\n",
    "        The IQR is about 1.64 units, suggesting that half of the countries have a happiness score within this range.\n",
    "\n",
    "- GDP per Capita:\n",
    "        GDP per capita has a mean of about 0.91 with a standard deviation of about 0.40, indicating significant variability in economic development across countries.\n",
    "        The IQR is about 0.63 units, suggesting that 50% of the countries have GDP per capita within this range.\n",
    "\n",
    "- Social Support:\n",
    "        Social support has a mean of about 1.21 with a standard deviation of about 0.30, indicating variability in social support across countries.\n",
    "        The IQR is about 0.40 units, suggesting that half of the countries have a level of social support within this range."
   ]
  },
  {
   "cell_type": "markdown",
   "metadata": {},
   "source": [
    "#### Conclusions after EDA by csv's:\n",
    "\n",
    "We were able to observe that in the 5 csv's studied, we found different values for the variables studied. Now I will make a comparison between columns of the datasets, to see how the respective merge could be done, and that of course, does not cause us conflict so that our data are in the least way to work."
   ]
  },
  {
   "cell_type": "markdown",
   "metadata": {},
   "source": [
    "#### Analysis of the Columns:\n",
    "\n",
    "First, let's look at a comparison between dimensions of each:"
   ]
  },
  {
   "cell_type": "code",
   "execution_count": 37,
   "metadata": {
    "metadata": {}
   },
   "outputs": [
    {
     "name": "stdout",
     "output_type": "stream",
     "text": [
      "+---------+----------------+-------------------+\n",
      "| Dataset | Number of rows | Number of columns |\n",
      "+---------+----------------+-------------------+\n",
      "| df2015  |      158       |        12         |\n",
      "| df2016  |      157       |        13         |\n",
      "| df2017  |      155       |        12         |\n",
      "| df2018  |      155       |         9         |\n",
      "| df2019  |      156       |         9         |\n",
      "+---------+----------------+-------------------+\n"
     ]
    }
   ],
   "source": [
    "dfs = {\n",
    "    'df2015': df2015,\n",
    "    'df2016': df2016,\n",
    "    'df2017': df2017,\n",
    "    'df2018': df2018,\n",
    "    'df2019': df2019\n",
    "}\n",
    "\n",
    "def get_shapes_compare(dfs):\n",
    "    shape_info = [] \n",
    "\n",
    "    for dataset_name, dataset in dfs.items():\n",
    "        shape = dataset.shape\n",
    "        shape_info.append({\n",
    "            'Dataset': dataset_name,\n",
    "            'Number of rows': shape[0],\n",
    "            'Number of columns': shape[1]\n",
    "        })\n",
    "\n",
    "    dfshapes = pd.DataFrame(shape_info)\n",
    "    return dfshapes\n",
    "\n",
    "dfshapes = get_shapes_compare(dfs)\n",
    "shapes_compare = tabulate(dfshapes, headers='keys', tablefmt='pretty', showindex=False)\n",
    "print(shapes_compare)"
   ]
  },
  {
   "cell_type": "markdown",
   "metadata": {},
   "source": [
    "As we can see, the last two years have fewer columns. This finding is super important, because then we can see the comparison of all the columns to see how we rename and what we remove to make a successful merge.\n",
    "\n",
    "Now, let's see what columns we have per dataset. This in order to identify which are common and which are not, so we can eliminate those that do not contribute to our project:"
   ]
  },
  {
   "cell_type": "code",
   "execution_count": 38,
   "metadata": {
    "metadata": {}
   },
   "outputs": [
    {
     "data": {
      "text/html": [
       "<div>\n",
       "<style scoped>\n",
       "    .dataframe tbody tr th:only-of-type {\n",
       "        vertical-align: middle;\n",
       "    }\n",
       "\n",
       "    .dataframe tbody tr th {\n",
       "        vertical-align: top;\n",
       "    }\n",
       "\n",
       "    .dataframe thead th {\n",
       "        text-align: right;\n",
       "    }\n",
       "</style>\n",
       "<table border=\"1\" class=\"dataframe\">\n",
       "  <thead>\n",
       "    <tr style=\"text-align: right;\">\n",
       "      <th></th>\n",
       "      <th>df2015</th>\n",
       "      <th>df2016</th>\n",
       "      <th>df2017</th>\n",
       "      <th>df2018</th>\n",
       "      <th>df2019</th>\n",
       "    </tr>\n",
       "  </thead>\n",
       "  <tbody>\n",
       "    <tr>\n",
       "      <th>0</th>\n",
       "      <td>Country</td>\n",
       "      <td>Country</td>\n",
       "      <td>Country</td>\n",
       "      <td>Overall rank</td>\n",
       "      <td>Overall rank</td>\n",
       "    </tr>\n",
       "    <tr>\n",
       "      <th>1</th>\n",
       "      <td>Region</td>\n",
       "      <td>Region</td>\n",
       "      <td>Happiness.Rank</td>\n",
       "      <td>Country or region</td>\n",
       "      <td>Country or region</td>\n",
       "    </tr>\n",
       "    <tr>\n",
       "      <th>2</th>\n",
       "      <td>Happiness Rank</td>\n",
       "      <td>Happiness Rank</td>\n",
       "      <td>Happiness.Score</td>\n",
       "      <td>Score</td>\n",
       "      <td>Score</td>\n",
       "    </tr>\n",
       "    <tr>\n",
       "      <th>3</th>\n",
       "      <td>Happiness Score</td>\n",
       "      <td>Happiness Score</td>\n",
       "      <td>Whisker.high</td>\n",
       "      <td>GDP per capita</td>\n",
       "      <td>GDP per capita</td>\n",
       "    </tr>\n",
       "    <tr>\n",
       "      <th>4</th>\n",
       "      <td>Standard Error</td>\n",
       "      <td>Lower Confidence Interval</td>\n",
       "      <td>Whisker.low</td>\n",
       "      <td>Social support</td>\n",
       "      <td>Social support</td>\n",
       "    </tr>\n",
       "    <tr>\n",
       "      <th>5</th>\n",
       "      <td>Economy (GDP per Capita)</td>\n",
       "      <td>Upper Confidence Interval</td>\n",
       "      <td>Economy..GDP.per.Capita.</td>\n",
       "      <td>Healthy life expectancy</td>\n",
       "      <td>Healthy life expectancy</td>\n",
       "    </tr>\n",
       "    <tr>\n",
       "      <th>6</th>\n",
       "      <td>Family</td>\n",
       "      <td>Economy (GDP per Capita)</td>\n",
       "      <td>Family</td>\n",
       "      <td>Freedom to make life choices</td>\n",
       "      <td>Freedom to make life choices</td>\n",
       "    </tr>\n",
       "    <tr>\n",
       "      <th>7</th>\n",
       "      <td>Health (Life Expectancy)</td>\n",
       "      <td>Family</td>\n",
       "      <td>Health..Life.Expectancy.</td>\n",
       "      <td>Generosity</td>\n",
       "      <td>Generosity</td>\n",
       "    </tr>\n",
       "    <tr>\n",
       "      <th>8</th>\n",
       "      <td>Freedom</td>\n",
       "      <td>Health (Life Expectancy)</td>\n",
       "      <td>Freedom</td>\n",
       "      <td>Perceptions of corruption</td>\n",
       "      <td>Perceptions of corruption</td>\n",
       "    </tr>\n",
       "    <tr>\n",
       "      <th>9</th>\n",
       "      <td>Trust (Government Corruption)</td>\n",
       "      <td>Freedom</td>\n",
       "      <td>Generosity</td>\n",
       "      <td>None</td>\n",
       "      <td>None</td>\n",
       "    </tr>\n",
       "    <tr>\n",
       "      <th>10</th>\n",
       "      <td>Generosity</td>\n",
       "      <td>Trust (Government Corruption)</td>\n",
       "      <td>Trust..Government.Corruption.</td>\n",
       "      <td>None</td>\n",
       "      <td>None</td>\n",
       "    </tr>\n",
       "    <tr>\n",
       "      <th>11</th>\n",
       "      <td>Dystopia Residual</td>\n",
       "      <td>Generosity</td>\n",
       "      <td>Dystopia.Residual</td>\n",
       "      <td>None</td>\n",
       "      <td>None</td>\n",
       "    </tr>\n",
       "    <tr>\n",
       "      <th>12</th>\n",
       "      <td>None</td>\n",
       "      <td>Dystopia Residual</td>\n",
       "      <td>None</td>\n",
       "      <td>None</td>\n",
       "      <td>None</td>\n",
       "    </tr>\n",
       "  </tbody>\n",
       "</table>\n",
       "</div>"
      ],
      "text/plain": [
       "                           df2015                         df2016  \\\n",
       "0                         Country                        Country   \n",
       "1                          Region                         Region   \n",
       "2                  Happiness Rank                 Happiness Rank   \n",
       "3                 Happiness Score                Happiness Score   \n",
       "4                  Standard Error      Lower Confidence Interval   \n",
       "5        Economy (GDP per Capita)      Upper Confidence Interval   \n",
       "6                          Family       Economy (GDP per Capita)   \n",
       "7        Health (Life Expectancy)                         Family   \n",
       "8                         Freedom       Health (Life Expectancy)   \n",
       "9   Trust (Government Corruption)                        Freedom   \n",
       "10                     Generosity  Trust (Government Corruption)   \n",
       "11              Dystopia Residual                     Generosity   \n",
       "12                           None              Dystopia Residual   \n",
       "\n",
       "                           df2017                        df2018  \\\n",
       "0                         Country                  Overall rank   \n",
       "1                  Happiness.Rank             Country or region   \n",
       "2                 Happiness.Score                         Score   \n",
       "3                    Whisker.high                GDP per capita   \n",
       "4                     Whisker.low                Social support   \n",
       "5        Economy..GDP.per.Capita.       Healthy life expectancy   \n",
       "6                          Family  Freedom to make life choices   \n",
       "7        Health..Life.Expectancy.                    Generosity   \n",
       "8                         Freedom     Perceptions of corruption   \n",
       "9                      Generosity                          None   \n",
       "10  Trust..Government.Corruption.                          None   \n",
       "11              Dystopia.Residual                          None   \n",
       "12                           None                          None   \n",
       "\n",
       "                          df2019  \n",
       "0                   Overall rank  \n",
       "1              Country or region  \n",
       "2                          Score  \n",
       "3                 GDP per capita  \n",
       "4                 Social support  \n",
       "5        Healthy life expectancy  \n",
       "6   Freedom to make life choices  \n",
       "7                     Generosity  \n",
       "8      Perceptions of corruption  \n",
       "9                           None  \n",
       "10                          None  \n",
       "11                          None  \n",
       "12                          None  "
      ]
     },
     "execution_count": 38,
     "metadata": {},
     "output_type": "execute_result"
    }
   ],
   "source": [
    "columns_df2015 = list(df2015.columns)\n",
    "columns_df2016 = list(df2016.columns)\n",
    "columns_df2017 = list(df2017.columns)\n",
    "columns_df2018 = list(df2018.columns)\n",
    "columns_df2019 = list(df2019.columns)\n",
    "\n",
    "max = max(len(columns) for columns in [columns_df2015, columns_df2016, columns_df2017, columns_df2018, columns_df2019])\n",
    "for columns in [columns_df2015, columns_df2016, columns_df2017, columns_df2018, columns_df2019]:\n",
    "    while len(columns) < max:\n",
    "        columns.append(None)\n",
    "\n",
    "data = {\n",
    "    'df2015': columns_df2015,\n",
    "    'df2016': columns_df2016,\n",
    "    'df2017': columns_df2017,\n",
    "    'df2018': columns_df2018,\n",
    "    'df2019': columns_df2019\n",
    "}\n",
    "columns_df = pd.DataFrame(data)\n",
    "columns_df\n"
   ]
  },
  {
   "cell_type": "markdown",
   "metadata": {},
   "source": [
    "We observe that the columns shared across all datasets include: Country, happiness score, GDP per capita, Life expectancy, freedom, generosity, and trust/government corruption. The columns slated for removal prior to merging are: Region, Standard Error (found in the 2015 dataset), Family and Dystopia residual (absent in the 2018 and 2019 datasets), whisker high and low (included in the 2017 dataset), social support (present in both the 2018 and 2019 datasets), Lower confidence interval, and Upper confidence interval (the latter two are present in the 2016 dataset)."
   ]
  },
  {
   "cell_type": "markdown",
   "metadata": {},
   "source": [
    "##### We will eliminate the columns mentioned above:"
   ]
  },
  {
   "cell_type": "code",
   "execution_count": 39,
   "metadata": {},
   "outputs": [],
   "source": [
    "df2015.drop(columns=['Region', 'Standard Error', 'Dystopia Residual'], inplace=True)\n",
    "df2016.drop(columns=['Region', 'Dystopia Residual', 'Lower Confidence Interval', 'Upper Confidence Interval'], inplace=True)\n",
    "df2017.drop(columns=['Whisker.high','Whisker.low', 'Dystopia.Residual'], inplace=True)"
   ]
  },
  {
   "cell_type": "markdown",
   "metadata": {},
   "source": [
    "Here, we add the column “year” to our merge:"
   ]
  },
  {
   "cell_type": "code",
   "execution_count": 40,
   "metadata": {},
   "outputs": [],
   "source": [
    "df2015['year'] = 2015\n",
    "df2016['year'] = 2016\n",
    "df2017['year'] = 2017\n",
    "df2018['year'] = 2018\n",
    "df2019['year'] = 2019"
   ]
  },
  {
   "cell_type": "markdown",
   "metadata": {},
   "source": [
    "##### Let's rename the columns we will work with:"
   ]
  },
  {
   "cell_type": "code",
   "execution_count": 41,
   "metadata": {},
   "outputs": [],
   "source": [
    "df15_df16 = {'year':'year','Economy (GDP per Capita)': 'gdp_per_capita','Family': 'social_support',\n",
    "         'Trust (Government Corruption)': 'government_corruption', 'Country': 'country', 'Happiness Rank': 'happiness_rank', \n",
    "         'Happiness Score': 'happiness_score', 'Freedom': 'freedom', 'Generosity': 'generosity', 'Health (Life Expectancy)': 'healthy_life_expectancy' }\n",
    "df2015 = df2015.rename(columns=df15_df16)\n",
    "df2016 = df2016.rename(columns=df15_df16)"
   ]
  },
  {
   "cell_type": "code",
   "execution_count": 42,
   "metadata": {},
   "outputs": [],
   "source": [
    "df17 = {'year':'year','Happiness.Rank': 'happiness_rank', 'Happiness.Score': 'happiness_score', 'Family':'social_support',\n",
    "         'Economy..GDP.per.Capita.': 'gdp_per_capita', 'Health..Life.Expectancy.' : 'healthy_life_expectancy',\n",
    "         'Trust..Government.Corruption.': 'government_corruption', 'Country':'country', 'Freedom': 'freedom', 'Generosity': 'generosity'}\n",
    "df2017 = df2017.rename(columns=df17)"
   ]
  },
  {
   "cell_type": "code",
   "execution_count": 43,
   "metadata": {},
   "outputs": [],
   "source": [
    "df18_df19 = {'year':'year','Overall rank': 'happiness_rank', 'Country or region': 'country', 'Score': 'happiness_score', 'Social support': 'social_support',\n",
    "         'Healthy life expectancy' : 'healthy_life_expectancy', 'Freedom to make life choices': 'freedom', \n",
    "         'Perceptions of corruption': 'government_corruption', 'GDP per capita': 'gdp_per_capita', 'Generosity': 'generosity'}\n",
    "df2018 = df2018.rename(columns=df18_df19)\n",
    "df2019 = df2019.rename(columns=df18_df19)"
   ]
  },
  {
   "cell_type": "markdown",
   "metadata": {},
   "source": [
    "##### We verify:"
   ]
  },
  {
   "cell_type": "code",
   "execution_count": 44,
   "metadata": {},
   "outputs": [
    {
     "name": "stdout",
     "output_type": "stream",
     "text": [
      "Index(['country', 'happiness_rank', 'happiness_score', 'gdp_per_capita',\n",
      "       'social_support', 'healthy_life_expectancy', 'freedom',\n",
      "       'government_corruption', 'generosity', 'year'],\n",
      "      dtype='object')\n",
      "Index(['country', 'happiness_rank', 'happiness_score', 'gdp_per_capita',\n",
      "       'social_support', 'healthy_life_expectancy', 'freedom',\n",
      "       'government_corruption', 'generosity', 'year'],\n",
      "      dtype='object')\n",
      "Index(['country', 'happiness_rank', 'happiness_score', 'gdp_per_capita',\n",
      "       'social_support', 'healthy_life_expectancy', 'freedom', 'generosity',\n",
      "       'government_corruption', 'year'],\n",
      "      dtype='object')\n",
      "Index(['happiness_rank', 'country', 'happiness_score', 'gdp_per_capita',\n",
      "       'social_support', 'healthy_life_expectancy', 'freedom', 'generosity',\n",
      "       'government_corruption', 'year'],\n",
      "      dtype='object')\n",
      "Index(['happiness_rank', 'country', 'happiness_score', 'gdp_per_capita',\n",
      "       'social_support', 'healthy_life_expectancy', 'freedom', 'generosity',\n",
      "       'government_corruption', 'year'],\n",
      "      dtype='object')\n"
     ]
    }
   ],
   "source": [
    "list = [df2015, df2016, df2017, df2018, df2019]\n",
    "for dfs in list:\n",
    "    print(dfs.columns)"
   ]
  },
  {
   "cell_type": "markdown",
   "metadata": {},
   "source": [
    "##### Merge "
   ]
  },
  {
   "cell_type": "code",
   "execution_count": 45,
   "metadata": {},
   "outputs": [
    {
     "data": {
      "text/html": [
       "<div>\n",
       "<style scoped>\n",
       "    .dataframe tbody tr th:only-of-type {\n",
       "        vertical-align: middle;\n",
       "    }\n",
       "\n",
       "    .dataframe tbody tr th {\n",
       "        vertical-align: top;\n",
       "    }\n",
       "\n",
       "    .dataframe thead th {\n",
       "        text-align: right;\n",
       "    }\n",
       "</style>\n",
       "<table border=\"1\" class=\"dataframe\">\n",
       "  <thead>\n",
       "    <tr style=\"text-align: right;\">\n",
       "      <th></th>\n",
       "      <th>year</th>\n",
       "      <th>happiness_rank</th>\n",
       "      <th>country</th>\n",
       "      <th>happiness_score</th>\n",
       "      <th>social_support</th>\n",
       "      <th>gdp_per_capita</th>\n",
       "      <th>healthy_life_expectancy</th>\n",
       "      <th>freedom</th>\n",
       "      <th>generosity</th>\n",
       "      <th>government_corruption</th>\n",
       "    </tr>\n",
       "  </thead>\n",
       "  <tbody>\n",
       "    <tr>\n",
       "      <th>0</th>\n",
       "      <td>2015</td>\n",
       "      <td>1</td>\n",
       "      <td>Switzerland</td>\n",
       "      <td>7.587</td>\n",
       "      <td>1.34951</td>\n",
       "      <td>1.39651</td>\n",
       "      <td>0.94143</td>\n",
       "      <td>0.66557</td>\n",
       "      <td>0.29678</td>\n",
       "      <td>0.41978</td>\n",
       "    </tr>\n",
       "    <tr>\n",
       "      <th>1</th>\n",
       "      <td>2015</td>\n",
       "      <td>2</td>\n",
       "      <td>Iceland</td>\n",
       "      <td>7.561</td>\n",
       "      <td>1.40223</td>\n",
       "      <td>1.30232</td>\n",
       "      <td>0.94784</td>\n",
       "      <td>0.62877</td>\n",
       "      <td>0.43630</td>\n",
       "      <td>0.14145</td>\n",
       "    </tr>\n",
       "    <tr>\n",
       "      <th>2</th>\n",
       "      <td>2015</td>\n",
       "      <td>3</td>\n",
       "      <td>Denmark</td>\n",
       "      <td>7.527</td>\n",
       "      <td>1.36058</td>\n",
       "      <td>1.32548</td>\n",
       "      <td>0.87464</td>\n",
       "      <td>0.64938</td>\n",
       "      <td>0.34139</td>\n",
       "      <td>0.48357</td>\n",
       "    </tr>\n",
       "    <tr>\n",
       "      <th>3</th>\n",
       "      <td>2015</td>\n",
       "      <td>4</td>\n",
       "      <td>Norway</td>\n",
       "      <td>7.522</td>\n",
       "      <td>1.33095</td>\n",
       "      <td>1.45900</td>\n",
       "      <td>0.88521</td>\n",
       "      <td>0.66973</td>\n",
       "      <td>0.34699</td>\n",
       "      <td>0.36503</td>\n",
       "    </tr>\n",
       "    <tr>\n",
       "      <th>4</th>\n",
       "      <td>2015</td>\n",
       "      <td>5</td>\n",
       "      <td>Canada</td>\n",
       "      <td>7.427</td>\n",
       "      <td>1.32261</td>\n",
       "      <td>1.32629</td>\n",
       "      <td>0.90563</td>\n",
       "      <td>0.63297</td>\n",
       "      <td>0.45811</td>\n",
       "      <td>0.32957</td>\n",
       "    </tr>\n",
       "  </tbody>\n",
       "</table>\n",
       "</div>"
      ],
      "text/plain": [
       "   year  happiness_rank      country  happiness_score  social_support  \\\n",
       "0  2015               1  Switzerland            7.587         1.34951   \n",
       "1  2015               2      Iceland            7.561         1.40223   \n",
       "2  2015               3      Denmark            7.527         1.36058   \n",
       "3  2015               4       Norway            7.522         1.33095   \n",
       "4  2015               5       Canada            7.427         1.32261   \n",
       "\n",
       "   gdp_per_capita  healthy_life_expectancy  freedom  generosity  \\\n",
       "0         1.39651                  0.94143  0.66557     0.29678   \n",
       "1         1.30232                  0.94784  0.62877     0.43630   \n",
       "2         1.32548                  0.87464  0.64938     0.34139   \n",
       "3         1.45900                  0.88521  0.66973     0.34699   \n",
       "4         1.32629                  0.90563  0.63297     0.45811   \n",
       "\n",
       "   government_corruption  \n",
       "0                0.41978  \n",
       "1                0.14145  \n",
       "2                0.48357  \n",
       "3                0.36503  \n",
       "4                0.32957  "
      ]
     },
     "execution_count": 45,
     "metadata": {},
     "output_type": "execute_result"
    }
   ],
   "source": [
    "common_columns = ['year','happiness_rank', 'country', 'happiness_score', 'social_support', 'gdp_per_capita','healthy_life_expectancy', 'freedom', 'generosity','government_corruption'] \n",
    "df = pd.concat([df2015, df2016, df2017, df2018, df2019], ignore_index=True)\n",
    "df = df.reindex(columns=common_columns)\n",
    "df.head(5)"
   ]
  },
  {
   "cell_type": "markdown",
   "metadata": {},
   "source": [
    "#### EDA (Exploratory Data Analysis) of Merge"
   ]
  },
  {
   "cell_type": "code",
   "execution_count": 46,
   "metadata": {},
   "outputs": [
    {
     "data": {
      "text/html": [
       "<div>\n",
       "<style scoped>\n",
       "    .dataframe tbody tr th:only-of-type {\n",
       "        vertical-align: middle;\n",
       "    }\n",
       "\n",
       "    .dataframe tbody tr th {\n",
       "        vertical-align: top;\n",
       "    }\n",
       "\n",
       "    .dataframe thead th {\n",
       "        text-align: right;\n",
       "    }\n",
       "</style>\n",
       "<table border=\"1\" class=\"dataframe\">\n",
       "  <thead>\n",
       "    <tr style=\"text-align: right;\">\n",
       "      <th></th>\n",
       "      <th>year</th>\n",
       "      <th>happiness_rank</th>\n",
       "      <th>country</th>\n",
       "      <th>happiness_score</th>\n",
       "      <th>social_support</th>\n",
       "      <th>gdp_per_capita</th>\n",
       "      <th>healthy_life_expectancy</th>\n",
       "      <th>freedom</th>\n",
       "      <th>generosity</th>\n",
       "      <th>government_corruption</th>\n",
       "    </tr>\n",
       "  </thead>\n",
       "  <tbody>\n",
       "    <tr>\n",
       "      <th>0</th>\n",
       "      <td>2015</td>\n",
       "      <td>1</td>\n",
       "      <td>Switzerland</td>\n",
       "      <td>7.587</td>\n",
       "      <td>1.34951</td>\n",
       "      <td>1.39651</td>\n",
       "      <td>0.94143</td>\n",
       "      <td>0.66557</td>\n",
       "      <td>0.29678</td>\n",
       "      <td>0.41978</td>\n",
       "    </tr>\n",
       "    <tr>\n",
       "      <th>1</th>\n",
       "      <td>2015</td>\n",
       "      <td>2</td>\n",
       "      <td>Iceland</td>\n",
       "      <td>7.561</td>\n",
       "      <td>1.40223</td>\n",
       "      <td>1.30232</td>\n",
       "      <td>0.94784</td>\n",
       "      <td>0.62877</td>\n",
       "      <td>0.43630</td>\n",
       "      <td>0.14145</td>\n",
       "    </tr>\n",
       "    <tr>\n",
       "      <th>2</th>\n",
       "      <td>2015</td>\n",
       "      <td>3</td>\n",
       "      <td>Denmark</td>\n",
       "      <td>7.527</td>\n",
       "      <td>1.36058</td>\n",
       "      <td>1.32548</td>\n",
       "      <td>0.87464</td>\n",
       "      <td>0.64938</td>\n",
       "      <td>0.34139</td>\n",
       "      <td>0.48357</td>\n",
       "    </tr>\n",
       "    <tr>\n",
       "      <th>3</th>\n",
       "      <td>2015</td>\n",
       "      <td>4</td>\n",
       "      <td>Norway</td>\n",
       "      <td>7.522</td>\n",
       "      <td>1.33095</td>\n",
       "      <td>1.45900</td>\n",
       "      <td>0.88521</td>\n",
       "      <td>0.66973</td>\n",
       "      <td>0.34699</td>\n",
       "      <td>0.36503</td>\n",
       "    </tr>\n",
       "    <tr>\n",
       "      <th>4</th>\n",
       "      <td>2015</td>\n",
       "      <td>5</td>\n",
       "      <td>Canada</td>\n",
       "      <td>7.427</td>\n",
       "      <td>1.32261</td>\n",
       "      <td>1.32629</td>\n",
       "      <td>0.90563</td>\n",
       "      <td>0.63297</td>\n",
       "      <td>0.45811</td>\n",
       "      <td>0.32957</td>\n",
       "    </tr>\n",
       "    <tr>\n",
       "      <th>...</th>\n",
       "      <td>...</td>\n",
       "      <td>...</td>\n",
       "      <td>...</td>\n",
       "      <td>...</td>\n",
       "      <td>...</td>\n",
       "      <td>...</td>\n",
       "      <td>...</td>\n",
       "      <td>...</td>\n",
       "      <td>...</td>\n",
       "      <td>...</td>\n",
       "    </tr>\n",
       "    <tr>\n",
       "      <th>776</th>\n",
       "      <td>2019</td>\n",
       "      <td>152</td>\n",
       "      <td>Rwanda</td>\n",
       "      <td>3.334</td>\n",
       "      <td>0.71100</td>\n",
       "      <td>0.35900</td>\n",
       "      <td>0.61400</td>\n",
       "      <td>0.55500</td>\n",
       "      <td>0.21700</td>\n",
       "      <td>0.41100</td>\n",
       "    </tr>\n",
       "    <tr>\n",
       "      <th>777</th>\n",
       "      <td>2019</td>\n",
       "      <td>153</td>\n",
       "      <td>Tanzania</td>\n",
       "      <td>3.231</td>\n",
       "      <td>0.88500</td>\n",
       "      <td>0.47600</td>\n",
       "      <td>0.49900</td>\n",
       "      <td>0.41700</td>\n",
       "      <td>0.27600</td>\n",
       "      <td>0.14700</td>\n",
       "    </tr>\n",
       "    <tr>\n",
       "      <th>778</th>\n",
       "      <td>2019</td>\n",
       "      <td>154</td>\n",
       "      <td>Afghanistan</td>\n",
       "      <td>3.203</td>\n",
       "      <td>0.51700</td>\n",
       "      <td>0.35000</td>\n",
       "      <td>0.36100</td>\n",
       "      <td>0.00000</td>\n",
       "      <td>0.15800</td>\n",
       "      <td>0.02500</td>\n",
       "    </tr>\n",
       "    <tr>\n",
       "      <th>779</th>\n",
       "      <td>2019</td>\n",
       "      <td>155</td>\n",
       "      <td>Central African Republic</td>\n",
       "      <td>3.083</td>\n",
       "      <td>0.00000</td>\n",
       "      <td>0.02600</td>\n",
       "      <td>0.10500</td>\n",
       "      <td>0.22500</td>\n",
       "      <td>0.23500</td>\n",
       "      <td>0.03500</td>\n",
       "    </tr>\n",
       "    <tr>\n",
       "      <th>780</th>\n",
       "      <td>2019</td>\n",
       "      <td>156</td>\n",
       "      <td>South Sudan</td>\n",
       "      <td>2.853</td>\n",
       "      <td>0.57500</td>\n",
       "      <td>0.30600</td>\n",
       "      <td>0.29500</td>\n",
       "      <td>0.01000</td>\n",
       "      <td>0.20200</td>\n",
       "      <td>0.09100</td>\n",
       "    </tr>\n",
       "  </tbody>\n",
       "</table>\n",
       "<p>781 rows × 10 columns</p>\n",
       "</div>"
      ],
      "text/plain": [
       "     year  happiness_rank                   country  happiness_score  \\\n",
       "0    2015               1               Switzerland            7.587   \n",
       "1    2015               2                   Iceland            7.561   \n",
       "2    2015               3                   Denmark            7.527   \n",
       "3    2015               4                    Norway            7.522   \n",
       "4    2015               5                    Canada            7.427   \n",
       "..    ...             ...                       ...              ...   \n",
       "776  2019             152                    Rwanda            3.334   \n",
       "777  2019             153                  Tanzania            3.231   \n",
       "778  2019             154               Afghanistan            3.203   \n",
       "779  2019             155  Central African Republic            3.083   \n",
       "780  2019             156               South Sudan            2.853   \n",
       "\n",
       "     social_support  gdp_per_capita  healthy_life_expectancy  freedom  \\\n",
       "0           1.34951         1.39651                  0.94143  0.66557   \n",
       "1           1.40223         1.30232                  0.94784  0.62877   \n",
       "2           1.36058         1.32548                  0.87464  0.64938   \n",
       "3           1.33095         1.45900                  0.88521  0.66973   \n",
       "4           1.32261         1.32629                  0.90563  0.63297   \n",
       "..              ...             ...                      ...      ...   \n",
       "776         0.71100         0.35900                  0.61400  0.55500   \n",
       "777         0.88500         0.47600                  0.49900  0.41700   \n",
       "778         0.51700         0.35000                  0.36100  0.00000   \n",
       "779         0.00000         0.02600                  0.10500  0.22500   \n",
       "780         0.57500         0.30600                  0.29500  0.01000   \n",
       "\n",
       "     generosity  government_corruption  \n",
       "0       0.29678                0.41978  \n",
       "1       0.43630                0.14145  \n",
       "2       0.34139                0.48357  \n",
       "3       0.34699                0.36503  \n",
       "4       0.45811                0.32957  \n",
       "..          ...                    ...  \n",
       "776     0.21700                0.41100  \n",
       "777     0.27600                0.14700  \n",
       "778     0.15800                0.02500  \n",
       "779     0.23500                0.03500  \n",
       "780     0.20200                0.09100  \n",
       "\n",
       "[781 rows x 10 columns]"
      ]
     },
     "execution_count": 46,
     "metadata": {},
     "output_type": "execute_result"
    }
   ],
   "source": [
    "df"
   ]
  },
  {
   "cell_type": "code",
   "execution_count": 47,
   "metadata": {},
   "outputs": [
    {
     "data": {
      "text/plain": [
       "(781, 10)"
      ]
     },
     "execution_count": 47,
     "metadata": {},
     "output_type": "execute_result"
    }
   ],
   "source": [
    "df.shape"
   ]
  },
  {
   "cell_type": "markdown",
   "metadata": {},
   "source": [
    "We have 781 rows with 8 columns."
   ]
  },
  {
   "cell_type": "code",
   "execution_count": 48,
   "metadata": {},
   "outputs": [
    {
     "data": {
      "text/plain": [
       "year                       0\n",
       "happiness_rank             0\n",
       "country                    0\n",
       "happiness_score            0\n",
       "social_support             0\n",
       "gdp_per_capita             0\n",
       "healthy_life_expectancy    0\n",
       "freedom                    0\n",
       "generosity                 0\n",
       "government_corruption      0\n",
       "dtype: int64"
      ]
     },
     "execution_count": 48,
     "metadata": {},
     "output_type": "execute_result"
    }
   ],
   "source": [
    "df.isna().sum()"
   ]
  },
  {
   "cell_type": "markdown",
   "metadata": {},
   "source": [
    "A positive thing is that we do not have null values, since in the EDA by csv's we eliminated the only null value we had."
   ]
  },
  {
   "cell_type": "markdown",
   "metadata": {},
   "source": [
    "Let's see if we have duplicates:"
   ]
  },
  {
   "cell_type": "code",
   "execution_count": 49,
   "metadata": {},
   "outputs": [
    {
     "data": {
      "text/html": [
       "<div>\n",
       "<style scoped>\n",
       "    .dataframe tbody tr th:only-of-type {\n",
       "        vertical-align: middle;\n",
       "    }\n",
       "\n",
       "    .dataframe tbody tr th {\n",
       "        vertical-align: top;\n",
       "    }\n",
       "\n",
       "    .dataframe thead th {\n",
       "        text-align: right;\n",
       "    }\n",
       "</style>\n",
       "<table border=\"1\" class=\"dataframe\">\n",
       "  <thead>\n",
       "    <tr style=\"text-align: right;\">\n",
       "      <th></th>\n",
       "      <th>year</th>\n",
       "      <th>happiness_rank</th>\n",
       "      <th>country</th>\n",
       "      <th>happiness_score</th>\n",
       "      <th>social_support</th>\n",
       "      <th>gdp_per_capita</th>\n",
       "      <th>healthy_life_expectancy</th>\n",
       "      <th>freedom</th>\n",
       "      <th>generosity</th>\n",
       "      <th>government_corruption</th>\n",
       "    </tr>\n",
       "  </thead>\n",
       "  <tbody>\n",
       "  </tbody>\n",
       "</table>\n",
       "</div>"
      ],
      "text/plain": [
       "Empty DataFrame\n",
       "Columns: [year, happiness_rank, country, happiness_score, social_support, gdp_per_capita, healthy_life_expectancy, freedom, generosity, government_corruption]\n",
       "Index: []"
      ]
     },
     "execution_count": 49,
     "metadata": {},
     "output_type": "execute_result"
    }
   ],
   "source": [
    "df.loc[df.duplicated()]"
   ]
  },
  {
   "cell_type": "markdown",
   "metadata": {},
   "source": [
    "Perfect, no duplicates.\n",
    "\n",
    "Let's look at a correlation matrix:"
   ]
  },
  {
   "cell_type": "code",
   "execution_count": 67,
   "metadata": {},
   "outputs": [
    {
     "data": {
      "image/png": "[encoded data removed]",
      "text/plain": [
       "<Figure size 1200x1000 with 2 Axes>"
      ]
     },
     "metadata": {},
     "output_type": "display_data"
    }
   ],
   "source": [
    "final = df.drop(columns=['year'])\n",
    "\n",
    "correlation_mat = final.select_dtypes(include=[\"int\", \"float\"]).corr()\n",
    "\n",
    "plt.figure(figsize=(12, 10), facecolor='white', edgecolor='black')\n",
    "ax = plt.axes()\n",
    "ax.set_facecolor('#292929')\n",
    "sns.heatmap(correlation_mat, annot=True, cmap='viridis', linewidths=0.5, annot_kws={\"size\": 10})\n",
    "plt.title('Correlation Analysis', color='white')\n",
    "plt.show()"
   ]
  },
  {
   "cell_type": "code",
   "execution_count": 51,
   "metadata": {},
   "outputs": [
    {
     "data": {
      "image/png": "[encoded data removed]",
      "text/plain": [
       "<Figure size 1000x800 with 9 Axes>"
      ]
     },
     "metadata": {},
     "output_type": "display_data"
    }
   ],
   "source": [
    "final = df.drop(columns=['year'])\n",
    "final.hist(figsize=(10, 8), edgecolor='black')\n",
    "plt.show()\n"
   ]
  },
  {
   "cell_type": "code",
   "execution_count": 66,
   "metadata": {},
   "outputs": [
    {
     "data": {
      "image/png": "[encoded data removed]",
      "text/plain": [
       "<Figure size 1000x600 with 1 Axes>"
      ]
     },
     "metadata": {},
     "output_type": "display_data"
    }
   ],
   "source": [
    "column_labels = ['social_support', 'gdp_per_capita', 'healthy_life_expectancy', 'freedom', 'generosity', 'government_corruption']\n",
    "\n",
    "# Crear el boxplot\n",
    "plt.figure(figsize=(10, 6))\n",
    "boxplot = df.boxplot(column=column_labels)\n",
    "plt.title('Boxplot')\n",
    "plt.ylabel('Value')\n",
    "plt.xticks(rotation=45)\n",
    "plt.grid(True)\n",
    "plt.show()"
   ]
  },
  {
   "cell_type": "code",
   "execution_count": 78,
   "metadata": {},
   "outputs": [
    {
     "data": {
      "image/png": "[encoded data removed]",
      "text/plain": [
       "<Figure size 1200x800 with 1 Axes>"
      ]
     },
     "metadata": {},
     "output_type": "display_data"
    }
   ],
   "source": [
    "average_scores = df.groupby('country')['happiness_score'].mean().reset_index()\n",
    "\n",
    "# Ordenar los datos por el promedio de 'happiness_score' de manera descendente\n",
    "average_scores = average_scores.sort_values(by='happiness_score', ascending=False)\n",
    "\n",
    "# Tomar solo los primeros 10 países con los promedios de felicidad más altos\n",
    "top_10_countries = average_scores.head(10)\n",
    "\n",
    "# Configurar el tamaño del gráfico\n",
    "plt.figure(figsize=(12, 8))\n",
    "\n",
    "# Crear el diagrama de barras\n",
    "bars = plt.bar(top_10_countries['country'], top_10_countries['happiness_score'], color='skyblue')\n",
    "\n",
    "# Rotar las etiquetas del eje x para una mejor visualización\n",
    "plt.xticks(rotation=90)\n",
    "\n",
    "# Etiquetas y título\n",
    "plt.xlabel('País')\n",
    "plt.ylabel('Promedio de Puntuación de Felicidad')\n",
    "plt.title('Top 10 Países con el Promedio de Puntuación de Felicidad Más Alto')\n",
    "\n",
    "# Agregar etiquetas de valor en cada barra\n",
    "for bar in bars:\n",
    "    yval = bar.get_height()\n",
    "    plt.text(bar.get_x() + bar.get_width()/2, yval, round(yval, 2), va='bottom')\n",
    "\n",
    "# Mostrar el gráfico\n",
    "plt.tight_layout()  # Ajusta el diseño para evitar cortes en las etiquetas\n",
    "plt.show()"
   ]
  },
  {
   "cell_type": "code",
   "execution_count": 81,
   "metadata": {},
   "outputs": [
    {
     "data": {
      "image/png": "[encoded data removed]",
      "text/plain": [
       "<Figure size 1000x600 with 1 Axes>"
      ]
     },
     "metadata": {},
     "output_type": "display_data"
    }
   ],
   "source": [
    "# Calcular el promedio de la puntuación de felicidad por año\n",
    "average_scores_by_year = df.groupby('year')['happiness_score'].mean().reset_index()\n",
    "\n",
    "# Configurar el tamaño del gráfico\n",
    "plt.figure(figsize=(10, 6))\n",
    "\n",
    "# Crear el diagrama de barras\n",
    "bars = plt.bar(average_scores_by_year['year'], average_scores_by_year['happiness_score'], color='skyblue')\n",
    "\n",
    "# Etiquetas y título\n",
    "plt.xlabel('Año')\n",
    "plt.ylabel('Promedio de Puntuación de Felicidad')\n",
    "plt.title('Promedio de Puntuación de Felicidad por Año')\n",
    "\n",
    "# Agregar etiquetas de valor sobre cada barra\n",
    "for bar in bars:\n",
    "    yval = bar.get_height()\n",
    "    plt.text(bar.get_x() + bar.get_width()/2, yval, round(yval, 2), va='bottom')\n",
    "\n",
    "# Mostrar el gráfico\n",
    "plt.grid(True)\n",
    "plt.tight_layout()\n",
    "plt.show()\n"
   ]
  },
  {
   "cell_type": "markdown",
   "metadata": {},
   "source": [
    "### Model Trained"
   ]
  },
  {
   "cell_type": "code",
   "execution_count": 53,
   "metadata": {},
   "outputs": [
    {
     "name": "stdout",
     "output_type": "stream",
     "text": [
      "<class 'pandas.core.frame.DataFrame'>\n",
      "RangeIndex: 781 entries, 0 to 780\n",
      "Data columns (total 9 columns):\n",
      " #   Column                   Non-Null Count  Dtype  \n",
      "---  ------                   --------------  -----  \n",
      " 0   year                     781 non-null    int64  \n",
      " 1   happiness_rank           781 non-null    int64  \n",
      " 2   country                  781 non-null    object \n",
      " 3   social_support           781 non-null    float64\n",
      " 4   gdp_per_capita           781 non-null    float64\n",
      " 5   healthy_life_expectancy  781 non-null    float64\n",
      " 6   freedom                  781 non-null    float64\n",
      " 7   generosity               781 non-null    float64\n",
      " 8   government_corruption    781 non-null    float64\n",
      "dtypes: float64(6), int64(2), object(1)\n",
      "memory usage: 55.0+ KB\n"
     ]
    }
   ],
   "source": [
    "X = df.drop('happiness_score', axis = 1)\n",
    "y = df['happiness_score']\n",
    "X.info()"
   ]
  },
  {
   "cell_type": "code",
   "execution_count": 54,
   "metadata": {},
   "outputs": [],
   "source": [
    "X_train, X_test, y_train, y_test = train_test_split(X, y, test_size=0.3, random_state=50)"
   ]
  },
  {
   "cell_type": "code",
   "execution_count": 55,
   "metadata": {},
   "outputs": [
    {
     "data": {
      "text/plain": [
       "(546, 9)"
      ]
     },
     "execution_count": 55,
     "metadata": {},
     "output_type": "execute_result"
    }
   ],
   "source": [
    "X_train.shape "
   ]
  },
  {
   "cell_type": "code",
   "execution_count": 56,
   "metadata": {},
   "outputs": [
    {
     "data": {
      "text/plain": [
       "(235, 9)"
      ]
     },
     "execution_count": 56,
     "metadata": {},
     "output_type": "execute_result"
    }
   ],
   "source": [
    "X_test.shape"
   ]
  },
  {
   "cell_type": "code",
   "execution_count": 57,
   "metadata": {},
   "outputs": [
    {
     "data": {
      "text/plain": [
       "157"
      ]
     },
     "execution_count": 57,
     "metadata": {},
     "output_type": "execute_result"
    }
   ],
   "source": [
    "X_train['happiness_rank'].nunique()"
   ]
  },
  {
   "cell_type": "markdown",
   "metadata": {},
   "source": [
    "\n",
    "\n",
    "Happiness Rank is an ordinal categorical variable, and it has a very high cardinality. In order to use it, I would have to apply one hot enconding to each one of this ranks, which would result in way too many columns, even if I group this rank into new categories. It also has a extremely high negative correlation with the Happiness Score, and adding this variable might result in multicolineality problems.\n",
    "\n",
    "For all these reasons, I'm going to drop it later on.\n"
   ]
  },
  {
   "cell_type": "code",
   "execution_count": 58,
   "metadata": {},
   "outputs": [
    {
     "data": {
      "text/plain": [
       "167"
      ]
     },
     "execution_count": 58,
     "metadata": {},
     "output_type": "execute_result"
    }
   ],
   "source": [
    "X_train['country'].nunique()"
   ]
  },
  {
   "cell_type": "markdown",
   "metadata": {},
   "source": [
    "We can see that the Country variable has a very high cardinality, which will have to be fixed.\n",
    "\n",
    "I will be importing Country converter to get the continents of each country easily. This will get me a lower cardinality variable which will be easier to handle.\n"
   ]
  },
  {
   "cell_type": "code",
   "execution_count": 59,
   "metadata": {},
   "outputs": [],
   "source": [
    "X_train['continent'] = X_train['country'].apply(continent)"
   ]
  },
  {
   "cell_type": "code",
   "execution_count": 60,
   "metadata": {},
   "outputs": [
    {
     "data": {
      "text/html": [
       "<div>\n",
       "<style scoped>\n",
       "    .dataframe tbody tr th:only-of-type {\n",
       "        vertical-align: middle;\n",
       "    }\n",
       "\n",
       "    .dataframe tbody tr th {\n",
       "        vertical-align: top;\n",
       "    }\n",
       "\n",
       "    .dataframe thead th {\n",
       "        text-align: right;\n",
       "    }\n",
       "</style>\n",
       "<table border=\"1\" class=\"dataframe\">\n",
       "  <thead>\n",
       "    <tr style=\"text-align: right;\">\n",
       "      <th></th>\n",
       "      <th>year</th>\n",
       "      <th>social_support</th>\n",
       "      <th>gdp_per_capita</th>\n",
       "      <th>healthy_life_expectancy</th>\n",
       "      <th>freedom</th>\n",
       "      <th>generosity</th>\n",
       "      <th>government_corruption</th>\n",
       "      <th>continent</th>\n",
       "    </tr>\n",
       "  </thead>\n",
       "  <tbody>\n",
       "    <tr>\n",
       "      <th>98</th>\n",
       "      <td>2015</td>\n",
       "      <td>0.738030</td>\n",
       "      <td>0.590660</td>\n",
       "      <td>0.549090</td>\n",
       "      <td>0.595910</td>\n",
       "      <td>0.421920</td>\n",
       "      <td>0.242490</td>\n",
       "      <td>Asia</td>\n",
       "    </tr>\n",
       "    <tr>\n",
       "      <th>502</th>\n",
       "      <td>2018</td>\n",
       "      <td>1.451000</td>\n",
       "      <td>1.529000</td>\n",
       "      <td>1.008000</td>\n",
       "      <td>0.631000</td>\n",
       "      <td>0.261000</td>\n",
       "      <td>0.457000</td>\n",
       "      <td>Asia</td>\n",
       "    </tr>\n",
       "    <tr>\n",
       "      <th>175</th>\n",
       "      <td>2016</td>\n",
       "      <td>1.052490</td>\n",
       "      <td>1.425390</td>\n",
       "      <td>0.819590</td>\n",
       "      <td>0.513540</td>\n",
       "      <td>0.242400</td>\n",
       "      <td>0.262480</td>\n",
       "      <td>Europe</td>\n",
       "    </tr>\n",
       "    <tr>\n",
       "      <th>345</th>\n",
       "      <td>2017</td>\n",
       "      <td>1.387777</td>\n",
       "      <td>1.430923</td>\n",
       "      <td>0.844466</td>\n",
       "      <td>0.470222</td>\n",
       "      <td>0.129762</td>\n",
       "      <td>0.172502</td>\n",
       "      <td>Europe</td>\n",
       "    </tr>\n",
       "    <tr>\n",
       "      <th>220</th>\n",
       "      <td>2016</td>\n",
       "      <td>1.056130</td>\n",
       "      <td>1.299470</td>\n",
       "      <td>0.791510</td>\n",
       "      <td>0.531640</td>\n",
       "      <td>0.257380</td>\n",
       "      <td>0.036350</td>\n",
       "      <td>Europe</td>\n",
       "    </tr>\n",
       "    <tr>\n",
       "      <th>...</th>\n",
       "      <td>...</td>\n",
       "      <td>...</td>\n",
       "      <td>...</td>\n",
       "      <td>...</td>\n",
       "      <td>...</td>\n",
       "      <td>...</td>\n",
       "      <td>...</td>\n",
       "      <td>...</td>\n",
       "    </tr>\n",
       "    <tr>\n",
       "      <th>132</th>\n",
       "      <td>2015</td>\n",
       "      <td>0.887670</td>\n",
       "      <td>0.422500</td>\n",
       "      <td>0.234020</td>\n",
       "      <td>0.493090</td>\n",
       "      <td>0.206180</td>\n",
       "      <td>0.057860</td>\n",
       "      <td>Africa</td>\n",
       "    </tr>\n",
       "    <tr>\n",
       "      <th>289</th>\n",
       "      <td>2016</td>\n",
       "      <td>0.147000</td>\n",
       "      <td>0.087090</td>\n",
       "      <td>0.293640</td>\n",
       "      <td>0.414300</td>\n",
       "      <td>0.309680</td>\n",
       "      <td>0.075640</td>\n",
       "      <td>Africa</td>\n",
       "    </tr>\n",
       "    <tr>\n",
       "      <th>109</th>\n",
       "      <td>2015</td>\n",
       "      <td>0.544470</td>\n",
       "      <td>1.008800</td>\n",
       "      <td>0.698050</td>\n",
       "      <td>0.300330</td>\n",
       "      <td>0.380860</td>\n",
       "      <td>0.058630</td>\n",
       "      <td>Asia</td>\n",
       "    </tr>\n",
       "    <tr>\n",
       "      <th>480</th>\n",
       "      <td>2018</td>\n",
       "      <td>1.433000</td>\n",
       "      <td>1.244000</td>\n",
       "      <td>0.888000</td>\n",
       "      <td>0.464000</td>\n",
       "      <td>0.262000</td>\n",
       "      <td>0.082000</td>\n",
       "      <td>Europe</td>\n",
       "    </tr>\n",
       "    <tr>\n",
       "      <th>688</th>\n",
       "      <td>2019</td>\n",
       "      <td>1.252000</td>\n",
       "      <td>1.263000</td>\n",
       "      <td>1.042000</td>\n",
       "      <td>0.417000</td>\n",
       "      <td>0.191000</td>\n",
       "      <td>0.162000</td>\n",
       "      <td>Asia</td>\n",
       "    </tr>\n",
       "  </tbody>\n",
       "</table>\n",
       "<p>546 rows × 8 columns</p>\n",
       "</div>"
      ],
      "text/plain": [
       "     year  social_support  gdp_per_capita  healthy_life_expectancy   freedom  \\\n",
       "98   2015        0.738030        0.590660                 0.549090  0.595910   \n",
       "502  2018        1.451000        1.529000                 1.008000  0.631000   \n",
       "175  2016        1.052490        1.425390                 0.819590  0.513540   \n",
       "345  2017        1.387777        1.430923                 0.844466  0.470222   \n",
       "220  2016        1.056130        1.299470                 0.791510  0.531640   \n",
       "..    ...             ...             ...                      ...       ...   \n",
       "132  2015        0.887670        0.422500                 0.234020  0.493090   \n",
       "289  2016        0.147000        0.087090                 0.293640  0.414300   \n",
       "109  2015        0.544470        1.008800                 0.698050  0.300330   \n",
       "480  2018        1.433000        1.244000                 0.888000  0.464000   \n",
       "688  2019        1.252000        1.263000                 1.042000  0.417000   \n",
       "\n",
       "     generosity  government_corruption continent  \n",
       "98     0.421920               0.242490      Asia  \n",
       "502    0.261000               0.457000      Asia  \n",
       "175    0.242400               0.262480    Europe  \n",
       "345    0.129762               0.172502    Europe  \n",
       "220    0.257380               0.036350    Europe  \n",
       "..          ...                    ...       ...  \n",
       "132    0.206180               0.057860    Africa  \n",
       "289    0.309680               0.075640    Africa  \n",
       "109    0.380860               0.058630      Asia  \n",
       "480    0.262000               0.082000    Europe  \n",
       "688    0.191000               0.162000      Asia  \n",
       "\n",
       "[546 rows x 8 columns]"
      ]
     },
     "execution_count": 60,
     "metadata": {},
     "output_type": "execute_result"
    }
   ],
   "source": [
    "del_cols(X_train)"
   ]
  },
  {
   "cell_type": "code",
   "execution_count": 61,
   "metadata": {},
   "outputs": [
    {
     "data": {
      "text/html": [
       "<div>\n",
       "<style scoped>\n",
       "    .dataframe tbody tr th:only-of-type {\n",
       "        vertical-align: middle;\n",
       "    }\n",
       "\n",
       "    .dataframe tbody tr th {\n",
       "        vertical-align: top;\n",
       "    }\n",
       "\n",
       "    .dataframe thead th {\n",
       "        text-align: right;\n",
       "    }\n",
       "</style>\n",
       "<table border=\"1\" class=\"dataframe\">\n",
       "  <thead>\n",
       "    <tr style=\"text-align: right;\">\n",
       "      <th></th>\n",
       "      <th>year</th>\n",
       "      <th>social_support</th>\n",
       "      <th>gdp_per_capita</th>\n",
       "      <th>healthy_life_expectancy</th>\n",
       "      <th>freedom</th>\n",
       "      <th>generosity</th>\n",
       "      <th>government_corruption</th>\n",
       "      <th>continent_Africa</th>\n",
       "      <th>continent_America</th>\n",
       "      <th>continent_Asia</th>\n",
       "      <th>continent_Europe</th>\n",
       "      <th>continent_Oceania</th>\n",
       "    </tr>\n",
       "  </thead>\n",
       "  <tbody>\n",
       "    <tr>\n",
       "      <th>98</th>\n",
       "      <td>2015</td>\n",
       "      <td>0.738030</td>\n",
       "      <td>0.590660</td>\n",
       "      <td>0.549090</td>\n",
       "      <td>0.595910</td>\n",
       "      <td>0.421920</td>\n",
       "      <td>0.242490</td>\n",
       "      <td>False</td>\n",
       "      <td>False</td>\n",
       "      <td>True</td>\n",
       "      <td>False</td>\n",
       "      <td>False</td>\n",
       "    </tr>\n",
       "    <tr>\n",
       "      <th>502</th>\n",
       "      <td>2018</td>\n",
       "      <td>1.451000</td>\n",
       "      <td>1.529000</td>\n",
       "      <td>1.008000</td>\n",
       "      <td>0.631000</td>\n",
       "      <td>0.261000</td>\n",
       "      <td>0.457000</td>\n",
       "      <td>False</td>\n",
       "      <td>False</td>\n",
       "      <td>True</td>\n",
       "      <td>False</td>\n",
       "      <td>False</td>\n",
       "    </tr>\n",
       "    <tr>\n",
       "      <th>175</th>\n",
       "      <td>2016</td>\n",
       "      <td>1.052490</td>\n",
       "      <td>1.425390</td>\n",
       "      <td>0.819590</td>\n",
       "      <td>0.513540</td>\n",
       "      <td>0.242400</td>\n",
       "      <td>0.262480</td>\n",
       "      <td>False</td>\n",
       "      <td>False</td>\n",
       "      <td>False</td>\n",
       "      <td>True</td>\n",
       "      <td>False</td>\n",
       "    </tr>\n",
       "    <tr>\n",
       "      <th>345</th>\n",
       "      <td>2017</td>\n",
       "      <td>1.387777</td>\n",
       "      <td>1.430923</td>\n",
       "      <td>0.844466</td>\n",
       "      <td>0.470222</td>\n",
       "      <td>0.129762</td>\n",
       "      <td>0.172502</td>\n",
       "      <td>False</td>\n",
       "      <td>False</td>\n",
       "      <td>False</td>\n",
       "      <td>True</td>\n",
       "      <td>False</td>\n",
       "    </tr>\n",
       "    <tr>\n",
       "      <th>220</th>\n",
       "      <td>2016</td>\n",
       "      <td>1.056130</td>\n",
       "      <td>1.299470</td>\n",
       "      <td>0.791510</td>\n",
       "      <td>0.531640</td>\n",
       "      <td>0.257380</td>\n",
       "      <td>0.036350</td>\n",
       "      <td>False</td>\n",
       "      <td>False</td>\n",
       "      <td>False</td>\n",
       "      <td>True</td>\n",
       "      <td>False</td>\n",
       "    </tr>\n",
       "  </tbody>\n",
       "</table>\n",
       "</div>"
      ],
      "text/plain": [
       "     year  social_support  gdp_per_capita  healthy_life_expectancy   freedom  \\\n",
       "98   2015        0.738030        0.590660                 0.549090  0.595910   \n",
       "502  2018        1.451000        1.529000                 1.008000  0.631000   \n",
       "175  2016        1.052490        1.425390                 0.819590  0.513540   \n",
       "345  2017        1.387777        1.430923                 0.844466  0.470222   \n",
       "220  2016        1.056130        1.299470                 0.791510  0.531640   \n",
       "\n",
       "     generosity  government_corruption  continent_Africa  continent_America  \\\n",
       "98     0.421920               0.242490             False              False   \n",
       "502    0.261000               0.457000             False              False   \n",
       "175    0.242400               0.262480             False              False   \n",
       "345    0.129762               0.172502             False              False   \n",
       "220    0.257380               0.036350             False              False   \n",
       "\n",
       "     continent_Asia  continent_Europe  continent_Oceania  \n",
       "98             True             False              False  \n",
       "502            True             False              False  \n",
       "175           False              True              False  \n",
       "345           False              True              False  \n",
       "220           False              True              False  "
      ]
     },
     "execution_count": 61,
     "metadata": {},
     "output_type": "execute_result"
    }
   ],
   "source": [
    "X_train = dummies(X_train)\n",
    "X_train.head()"
   ]
  },
  {
   "cell_type": "code",
   "execution_count": 62,
   "metadata": {},
   "outputs": [
    {
     "data": {
      "text/html": [
       "<div>\n",
       "<style scoped>\n",
       "    .dataframe tbody tr th:only-of-type {\n",
       "        vertical-align: middle;\n",
       "    }\n",
       "\n",
       "    .dataframe tbody tr th {\n",
       "        vertical-align: top;\n",
       "    }\n",
       "\n",
       "    .dataframe thead th {\n",
       "        text-align: right;\n",
       "    }\n",
       "</style>\n",
       "<table border=\"1\" class=\"dataframe\">\n",
       "  <thead>\n",
       "    <tr style=\"text-align: right;\">\n",
       "      <th></th>\n",
       "      <th>year</th>\n",
       "      <th>social_support</th>\n",
       "      <th>gdp_per_capita</th>\n",
       "      <th>healthy_life_expectancy</th>\n",
       "      <th>freedom</th>\n",
       "      <th>generosity</th>\n",
       "      <th>government_corruption</th>\n",
       "      <th>continent_Africa</th>\n",
       "      <th>continent_America</th>\n",
       "      <th>continent_Asia</th>\n",
       "      <th>continent_Europe</th>\n",
       "      <th>continent_Oceania</th>\n",
       "    </tr>\n",
       "  </thead>\n",
       "  <tbody>\n",
       "    <tr>\n",
       "      <th>365</th>\n",
       "      <td>2017</td>\n",
       "      <td>1.436338</td>\n",
       "      <td>1.416915</td>\n",
       "      <td>0.913476</td>\n",
       "      <td>0.505626</td>\n",
       "      <td>0.120573</td>\n",
       "      <td>0.163761</td>\n",
       "      <td>False</td>\n",
       "      <td>False</td>\n",
       "      <td>True</td>\n",
       "      <td>False</td>\n",
       "      <td>False</td>\n",
       "    </tr>\n",
       "    <tr>\n",
       "      <th>766</th>\n",
       "      <td>2019</td>\n",
       "      <td>0.757000</td>\n",
       "      <td>0.274000</td>\n",
       "      <td>0.505000</td>\n",
       "      <td>0.142000</td>\n",
       "      <td>0.275000</td>\n",
       "      <td>0.078000</td>\n",
       "      <td>True</td>\n",
       "      <td>False</td>\n",
       "      <td>False</td>\n",
       "      <td>False</td>\n",
       "      <td>False</td>\n",
       "    </tr>\n",
       "    <tr>\n",
       "      <th>774</th>\n",
       "      <td>2019</td>\n",
       "      <td>0.560000</td>\n",
       "      <td>0.191000</td>\n",
       "      <td>0.495000</td>\n",
       "      <td>0.443000</td>\n",
       "      <td>0.218000</td>\n",
       "      <td>0.089000</td>\n",
       "      <td>True</td>\n",
       "      <td>False</td>\n",
       "      <td>False</td>\n",
       "      <td>False</td>\n",
       "      <td>False</td>\n",
       "    </tr>\n",
       "    <tr>\n",
       "      <th>361</th>\n",
       "      <td>2017</td>\n",
       "      <td>1.548969</td>\n",
       "      <td>0.786441</td>\n",
       "      <td>0.498273</td>\n",
       "      <td>0.658249</td>\n",
       "      <td>0.415984</td>\n",
       "      <td>0.246528</td>\n",
       "      <td>False</td>\n",
       "      <td>False</td>\n",
       "      <td>True</td>\n",
       "      <td>False</td>\n",
       "      <td>False</td>\n",
       "    </tr>\n",
       "    <tr>\n",
       "      <th>29</th>\n",
       "      <td>2015</td>\n",
       "      <td>1.248230</td>\n",
       "      <td>1.053510</td>\n",
       "      <td>0.787230</td>\n",
       "      <td>0.449740</td>\n",
       "      <td>0.114510</td>\n",
       "      <td>0.084840</td>\n",
       "      <td>False</td>\n",
       "      <td>True</td>\n",
       "      <td>False</td>\n",
       "      <td>False</td>\n",
       "      <td>False</td>\n",
       "    </tr>\n",
       "  </tbody>\n",
       "</table>\n",
       "</div>"
      ],
      "text/plain": [
       "     year  social_support  gdp_per_capita  healthy_life_expectancy   freedom  \\\n",
       "365  2017        1.436338        1.416915                 0.913476  0.505626   \n",
       "766  2019        0.757000        0.274000                 0.505000  0.142000   \n",
       "774  2019        0.560000        0.191000                 0.495000  0.443000   \n",
       "361  2017        1.548969        0.786441                 0.498273  0.658249   \n",
       "29   2015        1.248230        1.053510                 0.787230  0.449740   \n",
       "\n",
       "     generosity  government_corruption  continent_Africa  continent_America  \\\n",
       "365    0.120573               0.163761             False              False   \n",
       "766    0.275000               0.078000              True              False   \n",
       "774    0.218000               0.089000              True              False   \n",
       "361    0.415984               0.246528             False              False   \n",
       "29     0.114510               0.084840             False               True   \n",
       "\n",
       "     continent_Asia  continent_Europe  continent_Oceania  \n",
       "365            True             False              False  \n",
       "766           False             False              False  \n",
       "774           False             False              False  \n",
       "361            True             False              False  \n",
       "29            False             False              False  "
      ]
     },
     "execution_count": 62,
     "metadata": {},
     "output_type": "execute_result"
    }
   ],
   "source": [
    "X_test['continent'] = X_test['country'].apply(continent)\n",
    "del_cols(X_test)\n",
    "X_test = dummies(X_test)\n",
    "X_test.head()"
   ]
  },
  {
   "cell_type": "code",
   "execution_count": 63,
   "metadata": {},
   "outputs": [
    {
     "name": "stdout",
     "output_type": "stream",
     "text": [
      "Linear Regression Model Results:\n",
      "Mean Squared Error (MSE): 0.22727380172392753\n",
      "Coefficient of determination (R^2): 0.8271406047437208\n"
     ]
    }
   ],
   "source": [
    "linear_reg_model = LinearRegression() # creatinng model\n",
    "\n",
    "linear_reg_model.fit(X_train, y_train) # training lr model\n",
    "\n",
    "y_pred_linear = linear_reg_model.predict(X_test) # predictions with lr model with test data\n",
    "\n",
    "# comparing metrics\n",
    "mse_linear = mean_squared_error(y_test, y_pred_linear)\n",
    "r2_linear = r2_score(y_test, y_pred_linear)\n",
    "\n",
    "print(\"Linear Regression Model Results:\")\n",
    "print(\"Mean Squared Error (MSE):\", mse_linear)\n",
    "print(\"Coefficient of determination (R^2):\", r2_linear)"
   ]
  },
  {
   "cell_type": "code",
   "execution_count": 64,
   "metadata": {},
   "outputs": [
    {
     "name": "stdout",
     "output_type": "stream",
     "text": [
      "Random Forest Regression Model Results:\n",
      "Mean Squared Error (MSE): 0.16546877714270558\n",
      "Coefficient of determination (R^2): 0.8741481308724339\n"
     ]
    }
   ],
   "source": [
    "random_forest_model = RandomForestRegressor(n_estimators=100, random_state=50) # creatinng model\n",
    "\n",
    "random_forest_model.fit(X_train, y_train) # training rf model\n",
    "\n",
    "y_pred_rf = random_forest_model.predict(X_test) # predicting rf model with test daata\n",
    "\n",
    "# comparing metrics\n",
    "mse_rf = mean_squared_error(y_test, y_pred_rf)\n",
    "r2_rf = r2_score(y_test, y_pred_rf)\n",
    "\n",
    "print(\"Random Forest Regression Model Results:\")\n",
    "print(\"Mean Squared Error (MSE):\", mse_rf)\n",
    "print(\"Coefficient of determination (R^2):\", r2_rf)"
   ]
  },
  {
   "cell_type": "code",
   "execution_count": 65,
   "metadata": {},
   "outputs": [
    {
     "name": "stdout",
     "output_type": "stream",
     "text": [
      "Gradient Boosting Regression Model Results:\n",
      "Mean Squared Error (MSE): 0.17677392259044503\n",
      "Coefficient of determination (R^2): 0.8655496888586275\n"
     ]
    }
   ],
   "source": [
    "# Crear el modelo de regresión de Gradient Boosting\n",
    "gradient_boosting_model = GradientBoostingRegressor(n_estimators=100, learning_rate=0.1, max_depth=3, random_state=50)\n",
    "\n",
    "# Entrenar el modelo\n",
    "gradient_boosting_model.fit(X_train, y_train)\n",
    "\n",
    "# Predecir con el modelo entrenado\n",
    "y_pred_gradient_boosting = gradient_boosting_model.predict(X_test)\n",
    "\n",
    "# Calcular métricas\n",
    "mse_gradient_boosting = mean_squared_error(y_test, y_pred_gradient_boosting)\n",
    "r2_gradient_boosting = r2_score(y_test, y_pred_gradient_boosting)\n",
    "\n",
    "print(\"Gradient Boosting Regression Model Results:\")\n",
    "print(\"Mean Squared Error (MSE):\", mse_gradient_boosting)\n",
    "print(\"Coefficient of determination (R^2):\", r2_gradient_boosting)\n"
   ]
  }
 ],
 "metadata": {
  "kernelspec": {
   "display_name": "Python 3",
   "language": "python",
   "name": "python3"
  },
  "language_info": {
   "codemirror_mode": {
    "name": "ipython",
    "version": 3
   },
   "file_extension": ".py",
   "mimetype": "text/x-python",
   "name": "python",
   "nbconvert_exporter": "python",
   "pygments_lexer": "ipython3",
   "version": "3.10.12"
  }
 },
 "nbformat": 4,
 "nbformat_minor": 2
}
