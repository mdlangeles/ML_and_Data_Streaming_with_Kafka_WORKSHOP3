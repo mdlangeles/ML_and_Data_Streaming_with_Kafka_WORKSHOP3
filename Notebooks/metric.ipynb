{
 "cells": [
  {
   "cell_type": "markdown",
   "metadata": {},
   "source": [
    "## Metric"
   ]
  },
  {
   "cell_type": "code",
   "execution_count": 1,
   "metadata": {},
   "outputs": [],
   "source": [
    "import matplotlib.pyplot as plt\n",
    "import pandas as pd\n",
    "from sklearn.metrics import mean_squared_error, r2_score, mean_absolute_error\n",
    "\n",
    "import sys\n",
    "\n",
    "sys.path.append('../bd_config')    \n",
    "from db_query import get_data"
   ]
  },
  {
   "cell_type": "code",
   "execution_count": 2,
   "metadata": {},
   "outputs": [
    {
     "name": "stdout",
     "output_type": "stream",
     "text": [
      "Conexión exitosa a la base de datos\n",
      "Datos obtenidos exitosamente\n"
     ]
    }
   ],
   "source": [
    "df = get_data()"
   ]
  },
  {
   "cell_type": "code",
   "execution_count": 4,
   "metadata": {},
   "outputs": [
    {
     "data": {
      "text/html": [
       "<div>\n",
       "<style scoped>\n",
       "    .dataframe tbody tr th:only-of-type {\n",
       "        vertical-align: middle;\n",
       "    }\n",
       "\n",
       "    .dataframe tbody tr th {\n",
       "        vertical-align: top;\n",
       "    }\n",
       "\n",
       "    .dataframe thead th {\n",
       "        text-align: right;\n",
       "    }\n",
       "</style>\n",
       "<table border=\"1\" class=\"dataframe\">\n",
       "  <thead>\n",
       "    <tr style=\"text-align: right;\">\n",
       "      <th></th>\n",
       "      <th>id</th>\n",
       "      <th>year</th>\n",
       "      <th>social_support</th>\n",
       "      <th>gdp_per_capita</th>\n",
       "      <th>healthy_life_expectancy</th>\n",
       "      <th>freedom</th>\n",
       "      <th>generosity</th>\n",
       "      <th>government_corruption</th>\n",
       "      <th>continent_africa</th>\n",
       "      <th>continent_america</th>\n",
       "      <th>continent_asia</th>\n",
       "      <th>continent_europe</th>\n",
       "      <th>continent_oceania</th>\n",
       "      <th>happiness_score</th>\n",
       "      <th>predicted_happiness_score</th>\n",
       "    </tr>\n",
       "  </thead>\n",
       "  <tbody>\n",
       "    <tr>\n",
       "      <th>0</th>\n",
       "      <td>1</td>\n",
       "      <td>2017</td>\n",
       "      <td>1.436338</td>\n",
       "      <td>1.416915</td>\n",
       "      <td>0.913476</td>\n",
       "      <td>0.505626</td>\n",
       "      <td>0.120573</td>\n",
       "      <td>0.163761</td>\n",
       "      <td>False</td>\n",
       "      <td>False</td>\n",
       "      <td>True</td>\n",
       "      <td>False</td>\n",
       "      <td>False</td>\n",
       "      <td>5.920</td>\n",
       "      <td>6.30629</td>\n",
       "    </tr>\n",
       "    <tr>\n",
       "      <th>1</th>\n",
       "      <td>2</td>\n",
       "      <td>2019</td>\n",
       "      <td>0.757000</td>\n",
       "      <td>0.274000</td>\n",
       "      <td>0.505000</td>\n",
       "      <td>0.142000</td>\n",
       "      <td>0.275000</td>\n",
       "      <td>0.078000</td>\n",
       "      <td>True</td>\n",
       "      <td>False</td>\n",
       "      <td>False</td>\n",
       "      <td>False</td>\n",
       "      <td>False</td>\n",
       "      <td>3.973</td>\n",
       "      <td>4.03493</td>\n",
       "    </tr>\n",
       "    <tr>\n",
       "      <th>2</th>\n",
       "      <td>3</td>\n",
       "      <td>2019</td>\n",
       "      <td>0.560000</td>\n",
       "      <td>0.191000</td>\n",
       "      <td>0.495000</td>\n",
       "      <td>0.443000</td>\n",
       "      <td>0.218000</td>\n",
       "      <td>0.089000</td>\n",
       "      <td>True</td>\n",
       "      <td>False</td>\n",
       "      <td>False</td>\n",
       "      <td>False</td>\n",
       "      <td>False</td>\n",
       "      <td>3.410</td>\n",
       "      <td>4.14127</td>\n",
       "    </tr>\n",
       "    <tr>\n",
       "      <th>3</th>\n",
       "      <td>4</td>\n",
       "      <td>2017</td>\n",
       "      <td>1.548969</td>\n",
       "      <td>0.786441</td>\n",
       "      <td>0.498273</td>\n",
       "      <td>0.658249</td>\n",
       "      <td>0.415984</td>\n",
       "      <td>0.246528</td>\n",
       "      <td>False</td>\n",
       "      <td>False</td>\n",
       "      <td>True</td>\n",
       "      <td>False</td>\n",
       "      <td>False</td>\n",
       "      <td>5.971</td>\n",
       "      <td>5.40629</td>\n",
       "    </tr>\n",
       "    <tr>\n",
       "      <th>4</th>\n",
       "      <td>5</td>\n",
       "      <td>2015</td>\n",
       "      <td>1.248230</td>\n",
       "      <td>1.053510</td>\n",
       "      <td>0.787230</td>\n",
       "      <td>0.449740</td>\n",
       "      <td>0.114510</td>\n",
       "      <td>0.084840</td>\n",
       "      <td>False</td>\n",
       "      <td>True</td>\n",
       "      <td>False</td>\n",
       "      <td>False</td>\n",
       "      <td>False</td>\n",
       "      <td>6.574</td>\n",
       "      <td>6.62809</td>\n",
       "    </tr>\n",
       "    <tr>\n",
       "      <th>5</th>\n",
       "      <td>6</td>\n",
       "      <td>2017</td>\n",
       "      <td>1.436338</td>\n",
       "      <td>1.416915</td>\n",
       "      <td>0.913476</td>\n",
       "      <td>0.505626</td>\n",
       "      <td>0.120573</td>\n",
       "      <td>0.163761</td>\n",
       "      <td>False</td>\n",
       "      <td>False</td>\n",
       "      <td>True</td>\n",
       "      <td>False</td>\n",
       "      <td>False</td>\n",
       "      <td>5.920</td>\n",
       "      <td>6.30629</td>\n",
       "    </tr>\n",
       "    <tr>\n",
       "      <th>6</th>\n",
       "      <td>7</td>\n",
       "      <td>2019</td>\n",
       "      <td>0.757000</td>\n",
       "      <td>0.274000</td>\n",
       "      <td>0.505000</td>\n",
       "      <td>0.142000</td>\n",
       "      <td>0.275000</td>\n",
       "      <td>0.078000</td>\n",
       "      <td>True</td>\n",
       "      <td>False</td>\n",
       "      <td>False</td>\n",
       "      <td>False</td>\n",
       "      <td>False</td>\n",
       "      <td>3.973</td>\n",
       "      <td>4.03493</td>\n",
       "    </tr>\n",
       "    <tr>\n",
       "      <th>7</th>\n",
       "      <td>8</td>\n",
       "      <td>2019</td>\n",
       "      <td>0.560000</td>\n",
       "      <td>0.191000</td>\n",
       "      <td>0.495000</td>\n",
       "      <td>0.443000</td>\n",
       "      <td>0.218000</td>\n",
       "      <td>0.089000</td>\n",
       "      <td>True</td>\n",
       "      <td>False</td>\n",
       "      <td>False</td>\n",
       "      <td>False</td>\n",
       "      <td>False</td>\n",
       "      <td>3.410</td>\n",
       "      <td>4.14127</td>\n",
       "    </tr>\n",
       "    <tr>\n",
       "      <th>8</th>\n",
       "      <td>9</td>\n",
       "      <td>2017</td>\n",
       "      <td>1.548969</td>\n",
       "      <td>0.786441</td>\n",
       "      <td>0.498273</td>\n",
       "      <td>0.658249</td>\n",
       "      <td>0.415984</td>\n",
       "      <td>0.246528</td>\n",
       "      <td>False</td>\n",
       "      <td>False</td>\n",
       "      <td>True</td>\n",
       "      <td>False</td>\n",
       "      <td>False</td>\n",
       "      <td>5.971</td>\n",
       "      <td>5.40629</td>\n",
       "    </tr>\n",
       "    <tr>\n",
       "      <th>9</th>\n",
       "      <td>10</td>\n",
       "      <td>2015</td>\n",
       "      <td>1.248230</td>\n",
       "      <td>1.053510</td>\n",
       "      <td>0.787230</td>\n",
       "      <td>0.449740</td>\n",
       "      <td>0.114510</td>\n",
       "      <td>0.084840</td>\n",
       "      <td>False</td>\n",
       "      <td>True</td>\n",
       "      <td>False</td>\n",
       "      <td>False</td>\n",
       "      <td>False</td>\n",
       "      <td>6.574</td>\n",
       "      <td>6.62809</td>\n",
       "    </tr>\n",
       "  </tbody>\n",
       "</table>\n",
       "</div>"
      ],
      "text/plain": [
       "   id  year  social_support  gdp_per_capita  healthy_life_expectancy  \\\n",
       "0   1  2017        1.436338        1.416915                 0.913476   \n",
       "1   2  2019        0.757000        0.274000                 0.505000   \n",
       "2   3  2019        0.560000        0.191000                 0.495000   \n",
       "3   4  2017        1.548969        0.786441                 0.498273   \n",
       "4   5  2015        1.248230        1.053510                 0.787230   \n",
       "5   6  2017        1.436338        1.416915                 0.913476   \n",
       "6   7  2019        0.757000        0.274000                 0.505000   \n",
       "7   8  2019        0.560000        0.191000                 0.495000   \n",
       "8   9  2017        1.548969        0.786441                 0.498273   \n",
       "9  10  2015        1.248230        1.053510                 0.787230   \n",
       "\n",
       "    freedom  generosity  government_corruption  continent_africa  \\\n",
       "0  0.505626    0.120573               0.163761             False   \n",
       "1  0.142000    0.275000               0.078000              True   \n",
       "2  0.443000    0.218000               0.089000              True   \n",
       "3  0.658249    0.415984               0.246528             False   \n",
       "4  0.449740    0.114510               0.084840             False   \n",
       "5  0.505626    0.120573               0.163761             False   \n",
       "6  0.142000    0.275000               0.078000              True   \n",
       "7  0.443000    0.218000               0.089000              True   \n",
       "8  0.658249    0.415984               0.246528             False   \n",
       "9  0.449740    0.114510               0.084840             False   \n",
       "\n",
       "   continent_america  continent_asia  continent_europe  continent_oceania  \\\n",
       "0              False            True             False              False   \n",
       "1              False           False             False              False   \n",
       "2              False           False             False              False   \n",
       "3              False            True             False              False   \n",
       "4               True           False             False              False   \n",
       "5              False            True             False              False   \n",
       "6              False           False             False              False   \n",
       "7              False           False             False              False   \n",
       "8              False            True             False              False   \n",
       "9               True           False             False              False   \n",
       "\n",
       "   happiness_score  predicted_happiness_score  \n",
       "0            5.920                    6.30629  \n",
       "1            3.973                    4.03493  \n",
       "2            3.410                    4.14127  \n",
       "3            5.971                    5.40629  \n",
       "4            6.574                    6.62809  \n",
       "5            5.920                    6.30629  \n",
       "6            3.973                    4.03493  \n",
       "7            3.410                    4.14127  \n",
       "8            5.971                    5.40629  \n",
       "9            6.574                    6.62809  "
      ]
     },
     "execution_count": 4,
     "metadata": {},
     "output_type": "execute_result"
    }
   ],
   "source": [
    "df.head(10)"
   ]
  },
  {
   "cell_type": "code",
   "execution_count": 5,
   "metadata": {},
   "outputs": [],
   "source": [
    "y_test = df['happiness_score']\n",
    "y_pred = df['predicted_happiness_score']"
   ]
  },
  {
   "cell_type": "markdown",
   "metadata": {},
   "source": [
    "##### Coefficient of determination (R²)"
   ]
  },
  {
   "cell_type": "code",
   "execution_count": 7,
   "metadata": {},
   "outputs": [
    {
     "name": "stdout",
     "output_type": "stream",
     "text": [
      "Random Forest Regression Model Results:\n",
      "Coefficient of determination (R^2): 0.8709180118227431\n"
     ]
    }
   ],
   "source": [
    "r2_rf = r2_score(y_test, y_pred)\n",
    "\n",
    "print(\"Random Forest Regression Model Results:\")\n",
    "print(\"Coefficient of determination (R^2):\", r2_rf)"
   ]
  },
  {
   "cell_type": "markdown",
   "metadata": {},
   "source": [
    "The model demonstrates a notably high coefficient of determination, indicating that 87% of the variability in the Happiness Score is accounted for by the model."
   ]
  },
  {
   "cell_type": "markdown",
   "metadata": {},
   "source": [
    "##### Mean Squared Error"
   ]
  },
  {
   "cell_type": "code",
   "execution_count": 11,
   "metadata": {},
   "outputs": [
    {
     "name": "stdout",
     "output_type": "stream",
     "text": [
      "Random Forest Regression Model Results:\n",
      "Mean Squared Error (MSE): 0.17818718986973522\n"
     ]
    }
   ],
   "source": [
    "mse_rf = mean_squared_error(y_test, y_pred)\n",
    "\n",
    "print(\"Random Forest Regression Model Results:\")\n",
    "print(\"Mean Squared Error (MSE):\", mse_rf)"
   ]
  },
  {
   "cell_type": "markdown",
   "metadata": {},
   "source": [
    "An MSE of 0.1781 signifies that, on average, the model's predictions deviate from the actual values by 0.1781 squared units. A lower MSE indicates a smaller squared error, meaning the model's predictions are more accurate. Therefore, an MSE of 0.1781 suggests that the model's predictions are fairly accurate."
   ]
  },
  {
   "cell_type": "markdown",
   "metadata": {},
   "source": [
    "##### Mean Absolute Error"
   ]
  },
  {
   "cell_type": "code",
   "execution_count": 12,
   "metadata": {},
   "outputs": [
    {
     "name": "stdout",
     "output_type": "stream",
     "text": [
      "Random Forest Regression Model Results:\n",
      "Mean Squared Error (MAE): 0.3316266288207001\n"
     ]
    }
   ],
   "source": [
    "mae_rf = mean_absolute_error(y_test, y_pred)\n",
    "\n",
    "print(\"Random Forest Regression Model Results:\")\n",
    "print(\"Mean Squared Error (MAE):\", mae_rf)"
   ]
  },
  {
   "cell_type": "markdown",
   "metadata": {},
   "source": [
    "A Mean Absolute Error (MAE) of 0.3316 indicates that, on average, the predictions differ from the actual values by 0.3316 units. The MAE quantifies the average of the absolute differences between the model's predictions and the actual values. Unlike the Mean Squared Error (MSE), the MAE is less influenced by outliers because it does not square the errors."
   ]
  },
  {
   "cell_type": "markdown",
   "metadata": {},
   "source": [
    "It is evident that the MAE exceeds the MSE. This suggests that there are certain predictions that diverge notably from the actual values, leading to larger errors and consequently inflating the MAE. Nevertheless, on the whole, most predictions demonstrate high accuracy with minor deviations, thereby lowering the MSE.\n",
    "\n",
    "We can see this, in the following graph:"
   ]
  },
  {
   "cell_type": "code",
   "execution_count": 10,
   "metadata": {},
   "outputs": [
    {
     "data": {
      "image/png": "[encoded data removed]",
      "text/plain": [
       "<Figure size 600x600 with 1 Axes>"
      ]
     },
     "metadata": {},
     "output_type": "display_data"
    }
   ],
   "source": [
    "plt.figure(figsize=(6, 6))\n",
    "\n",
    "plt.scatter(y_test, y_pred, alpha=0.5)\n",
    "\n",
    "plt.xlabel(\"Happiness Score\")\n",
    "plt.ylabel(\"Predicted Happiness Score\")\n",
    "\n",
    "plt.title(\"Actual Happiness Score vs Predicted Happiness Score\")\n",
    "\n",
    "plt.plot([y_test.min(), y_test.max()], [y_test.min(), y_test.max()], 'r--', lw=2)\n",
    "\n",
    "plt.show()"
   ]
  }
 ],
 "metadata": {
  "kernelspec": {
   "display_name": "venv",
   "language": "python",
   "name": "python3"
  },
  "language_info": {
   "codemirror_mode": {
    "name": "ipython",
    "version": 3
   },
   "file_extension": ".py",
   "mimetype": "text/x-python",
   "name": "python",
   "nbconvert_exporter": "python",
   "pygments_lexer": "ipython3",
   "version": "3.11.9"
  }
 },
 "nbformat": 4,
 "nbformat_minor": 2
}
